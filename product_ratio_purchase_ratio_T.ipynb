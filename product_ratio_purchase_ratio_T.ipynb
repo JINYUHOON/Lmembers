{
  "nbformat": 4,
  "nbformat_minor": 0,
  "metadata": {
    "colab": {
      "name": "product_ratio_purchase_ratio.ipynb",
      "provenance": [],
      "machine_shape": "hm",
      "authorship_tag": "ABX9TyN8zUYRx2hBf6uSUbTynAaa",
      "include_colab_link": true
    },
    "kernelspec": {
      "name": "python3",
      "display_name": "Python 3"
    },
    "language_info": {
      "name": "python"
    },
    "accelerator": "GPU"
  },
  "cells": [
    {
      "cell_type": "markdown",
      "metadata": {
        "id": "view-in-github",
        "colab_type": "text"
      },
      "source": [
        "<a href=\"https://colab.research.google.com/github/kikiru328/enterprise_analysis/blob/main/product_ratio_purchase_ratio_T.ipynb\" target=\"_parent\"><img src=\"https://colab.research.google.com/assets/colab-badge.svg\" alt=\"Open In Colab\"/></a>"
      ]
    },
    {
      "cell_type": "code",
      "metadata": {
        "colab": {
          "base_uri": "https://localhost:8080/"
        },
        "id": "YMHoyGxAvvvt",
        "outputId": "20791252-e355-4200-d9af-964019e21c86"
      },
      "source": [
        "import os, sys\n",
        "from google.colab import drive\n",
        "drive.mount('/content/drive')\n",
        "my_path = '/content/notebooks'\n",
        "os.symlink('/content/drive/My Drive/Colab Notebooks', my_path)\n",
        "sys.path.insert(0,my_path)\n",
        "\n",
        "# 한글폰트\n",
        "!sudo apt-get install -y fonts-nanum\n",
        "!sudo fc-cache -fv\n",
        "!rm ~/.cache/matplotlib -rf\n",
        "## 돌리고 런타임 재시작\n",
        "## 드라이브 마운트, 한글폰트설치코드 제외 셀 실행"
      ],
      "execution_count": 1,
      "outputs": [
        {
          "output_type": "stream",
          "name": "stdout",
          "text": [
            "Mounted at /content/drive\n",
            "Reading package lists... Done\n",
            "Building dependency tree       \n",
            "Reading state information... Done\n",
            "The following NEW packages will be installed:\n",
            "  fonts-nanum\n",
            "0 upgraded, 1 newly installed, 0 to remove and 37 not upgraded.\n",
            "Need to get 9,604 kB of archives.\n",
            "After this operation, 29.5 MB of additional disk space will be used.\n",
            "Get:1 http://archive.ubuntu.com/ubuntu bionic/universe amd64 fonts-nanum all 20170925-1 [9,604 kB]\n",
            "Fetched 9,604 kB in 2s (5,569 kB/s)\n",
            "debconf: unable to initialize frontend: Dialog\n",
            "debconf: (No usable dialog-like program is installed, so the dialog based frontend cannot be used. at /usr/share/perl5/Debconf/FrontEnd/Dialog.pm line 76, <> line 1.)\n",
            "debconf: falling back to frontend: Readline\n",
            "debconf: unable to initialize frontend: Readline\n",
            "debconf: (This frontend requires a controlling tty.)\n",
            "debconf: falling back to frontend: Teletype\n",
            "dpkg-preconfigure: unable to re-open stdin: \n",
            "Selecting previously unselected package fonts-nanum.\n",
            "(Reading database ... 155047 files and directories currently installed.)\n",
            "Preparing to unpack .../fonts-nanum_20170925-1_all.deb ...\n",
            "Unpacking fonts-nanum (20170925-1) ...\n",
            "Setting up fonts-nanum (20170925-1) ...\n",
            "Processing triggers for fontconfig (2.12.6-0ubuntu2) ...\n",
            "/usr/share/fonts: caching, new cache contents: 0 fonts, 1 dirs\n",
            "/usr/share/fonts/truetype: caching, new cache contents: 0 fonts, 3 dirs\n",
            "/usr/share/fonts/truetype/humor-sans: caching, new cache contents: 1 fonts, 0 dirs\n",
            "/usr/share/fonts/truetype/liberation: caching, new cache contents: 16 fonts, 0 dirs\n",
            "/usr/share/fonts/truetype/nanum: caching, new cache contents: 10 fonts, 0 dirs\n",
            "/usr/local/share/fonts: caching, new cache contents: 0 fonts, 0 dirs\n",
            "/root/.local/share/fonts: skipping, no such directory\n",
            "/root/.fonts: skipping, no such directory\n",
            "/var/cache/fontconfig: cleaning cache directory\n",
            "/root/.cache/fontconfig: not cleaning non-existent cache directory\n",
            "/root/.fontconfig: not cleaning non-existent cache directory\n",
            "fc-cache: succeeded\n"
          ]
        }
      ]
    },
    {
      "cell_type": "code",
      "metadata": {
        "colab": {
          "base_uri": "https://localhost:8080/"
        },
        "id": "VjEX1T2Ovw87",
        "outputId": "6e61d511-5bd5-4610-aa21-42c8d382e6cd"
      },
      "source": [
        "#  Directory 변경 (모듈이용)\n",
        "%pwd\n",
        "%cd '../content/notebooks'\n",
        "\n",
        "# module import\n",
        "## Data Load\n",
        "from pickle5 import pickle \n",
        "\n",
        "## Basic module\n",
        "import pandas as pd\n",
        "import numpy as np\n",
        "import datetime as dt\n",
        "import seaborn as sns\n",
        "import matplotlib.pyplot as plt\n",
        "plt.rc('font', family='NanumBarunGothic')\n",
        "\n",
        "#waring\n",
        "import warnings\n",
        "warnings.filterwarnings('ignore')"
      ],
      "execution_count": 38,
      "outputs": [
        {
          "output_type": "stream",
          "name": "stdout",
          "text": [
            "[Errno 2] No such file or directory: '../content/notebooks'\n",
            "/content/drive/My Drive/Colab Notebooks\n"
          ]
        }
      ]
    },
    {
      "cell_type": "code",
      "metadata": {
        "id": "0kOhb6hw9cGo"
      },
      "source": [
        "with open('/content/drive/MyDrive/공유문서/1차 프로젝트/5조/data/EDA/pr_1','rb') as f1:\n",
        "  pr_1 = pickle.load(f1)\n",
        "with open('/content/drive/MyDrive/공유문서/1차 프로젝트/5조/data/EDA/pr_2','rb') as f2:\n",
        "  pr_2 = pickle.load(f2)\n",
        "with open('/content/drive/MyDrive/공유문서/1차 프로젝트/5조/data/EDA/pr_3','rb') as f3:\n",
        "  pr_3 = pickle.load(f3)\n",
        "with open('/content/drive/MyDrive/공유문서/1차 프로젝트/5조/data/EDA/pr_4','rb') as f4:\n",
        "  pr_4 = pickle.load(f4)"
      ],
      "execution_count": 5,
      "outputs": []
    },
    {
      "cell_type": "code",
      "metadata": {
        "id": "3wU7zaJy-Xge"
      },
      "source": [
        "sorting_cols = pr_1.columns.to_list()\n",
        "sorting_cols = ['가공식품_구매금액',\n",
        " '가구/인테리어_구매금액',\n",
        " '교육/문화용품_구매금액',\n",
        " '기타_구매금액',\n",
        " '디지털/가전_구매금액',\n",
        " '명품_구매금액',\n",
        " '신선식품_구매금액',\n",
        " '의류_구매금액',\n",
        " '일상용품_구매금액',\n",
        " '전문스포츠/레저_구매금액',\n",
        " '패션잡화_구매금액',\n",
        " '총구매금액']\n"
      ],
      "execution_count": 19,
      "outputs": []
    },
    {
      "cell_type": "code",
      "metadata": {
        "id": "zYvm1KVE_kK4"
      },
      "source": [
        "def_cols = ['가공식품_구매금액','가구/인테리어_구매금액',\n",
        " '교육/문화용품_구매금액',\n",
        " '기타_구매금액',\n",
        " '디지털/가전_구매금액',\n",
        " '명품_구매금액',\n",
        " '신선식품_구매금액',\n",
        " '의류_구매금액',\n",
        " '일상용품_구매금액',\n",
        " '전문스포츠/레저_구매금액',\n",
        " '패션잡화_구매금액']"
      ],
      "execution_count": 20,
      "outputs": []
    },
    {
      "cell_type": "code",
      "metadata": {
        "id": "7n2ynuPpAtIW"
      },
      "source": [
        "sum_cols = ['가공식품_구매금액_r', '가구/인테리어_구매금액_r', '교육/문화용품_구매금액_r',\n",
        "       '기타_구매금액_r', '디지털/가전_구매금액_r', '명품_구매금액_r', '신선식품_구매금액_r', '의류_구매금액_r',\n",
        "       '일상용품_구매금액_r', '전문스포츠/레저_구매금액_r', '패션잡화_구매금액_r']"
      ],
      "execution_count": 30,
      "outputs": []
    },
    {
      "cell_type": "code",
      "metadata": {
        "id": "q9NoshQdAX8Y"
      },
      "source": [
        "confirm_cols = ['가공식품_구매금액_r', '가구/인테리어_구매금액_r', '교육/문화용품_구매금액_r',\n",
        "       '기타_구매금액_r', '디지털/가전_구매금액_r', '명품_구매금액_r', '신선식품_구매금액_r', '의류_구매금액_r',\n",
        "       '일상용품_구매금액_r', '전문스포츠/레저_구매금액_r', '패션잡화_구매금액_r', 'total']"
      ],
      "execution_count": 27,
      "outputs": []
    },
    {
      "cell_type": "code",
      "metadata": {
        "id": "4RdtpWDk-nL_"
      },
      "source": [
        "pr_1 = pr_1[sorting_cols]\n",
        "pr_2 = pr_2[sorting_cols]\n",
        "pr_3 = pr_3[sorting_cols]\n",
        "pr_4 = pr_4[sorting_cols]"
      ],
      "execution_count": 13,
      "outputs": []
    },
    {
      "cell_type": "code",
      "metadata": {
        "colab": {
          "base_uri": "https://localhost:8080/",
          "height": 456
        },
        "id": "wpkq0130_F0l",
        "outputId": "82d0bec2-08e2-49bc-dfb5-a048ec37c7c7"
      },
      "source": [
        "for i in def_cols:\n",
        "  pr_1[f'{i}_r'] = pr_1[i] / pr_1['총구매금액']\n",
        "pr_1['total'] = pr_1[sum_cols].sum(axis=1)\n",
        "pr_1 = pr_1[confirm_cols]"
      ],
      "execution_count": 31,
      "outputs": [
        {
          "output_type": "execute_result",
          "data": {
            "text/html": [
              "<div>\n",
              "<style scoped>\n",
              "    .dataframe tbody tr th:only-of-type {\n",
              "        vertical-align: middle;\n",
              "    }\n",
              "\n",
              "    .dataframe tbody tr th {\n",
              "        vertical-align: top;\n",
              "    }\n",
              "\n",
              "    .dataframe thead th {\n",
              "        text-align: right;\n",
              "    }\n",
              "</style>\n",
              "<table border=\"1\" class=\"dataframe\">\n",
              "  <thead>\n",
              "    <tr style=\"text-align: right;\">\n",
              "      <th></th>\n",
              "      <th>가공식품_구매금액_r</th>\n",
              "      <th>가구/인테리어_구매금액_r</th>\n",
              "      <th>교육/문화용품_구매금액_r</th>\n",
              "      <th>기타_구매금액_r</th>\n",
              "      <th>디지털/가전_구매금액_r</th>\n",
              "      <th>명품_구매금액_r</th>\n",
              "      <th>신선식품_구매금액_r</th>\n",
              "      <th>의류_구매금액_r</th>\n",
              "      <th>일상용품_구매금액_r</th>\n",
              "      <th>전문스포츠/레저_구매금액_r</th>\n",
              "      <th>패션잡화_구매금액_r</th>\n",
              "      <th>total</th>\n",
              "    </tr>\n",
              "  </thead>\n",
              "  <tbody>\n",
              "    <tr>\n",
              "      <th>1</th>\n",
              "      <td>0.178166</td>\n",
              "      <td>0.034956</td>\n",
              "      <td>0.0</td>\n",
              "      <td>0.001094</td>\n",
              "      <td>0.000000</td>\n",
              "      <td>0.000000</td>\n",
              "      <td>0.060083</td>\n",
              "      <td>0.438231</td>\n",
              "      <td>0.093743</td>\n",
              "      <td>0.107561</td>\n",
              "      <td>0.086165</td>\n",
              "      <td>1.0</td>\n",
              "    </tr>\n",
              "    <tr>\n",
              "      <th>2</th>\n",
              "      <td>0.061068</td>\n",
              "      <td>0.071338</td>\n",
              "      <td>0.0</td>\n",
              "      <td>0.000000</td>\n",
              "      <td>0.058450</td>\n",
              "      <td>0.000000</td>\n",
              "      <td>0.159052</td>\n",
              "      <td>0.123541</td>\n",
              "      <td>0.327026</td>\n",
              "      <td>0.162386</td>\n",
              "      <td>0.037138</td>\n",
              "      <td>1.0</td>\n",
              "    </tr>\n",
              "    <tr>\n",
              "      <th>3</th>\n",
              "      <td>0.622933</td>\n",
              "      <td>0.000000</td>\n",
              "      <td>0.0</td>\n",
              "      <td>0.000000</td>\n",
              "      <td>0.000000</td>\n",
              "      <td>0.000000</td>\n",
              "      <td>0.256122</td>\n",
              "      <td>0.093983</td>\n",
              "      <td>0.026961</td>\n",
              "      <td>0.000000</td>\n",
              "      <td>0.000000</td>\n",
              "      <td>1.0</td>\n",
              "    </tr>\n",
              "    <tr>\n",
              "      <th>4</th>\n",
              "      <td>0.160786</td>\n",
              "      <td>0.024942</td>\n",
              "      <td>0.0</td>\n",
              "      <td>0.000000</td>\n",
              "      <td>0.000000</td>\n",
              "      <td>0.000000</td>\n",
              "      <td>0.159296</td>\n",
              "      <td>0.403879</td>\n",
              "      <td>0.018284</td>\n",
              "      <td>0.079748</td>\n",
              "      <td>0.153065</td>\n",
              "      <td>1.0</td>\n",
              "    </tr>\n",
              "    <tr>\n",
              "      <th>5</th>\n",
              "      <td>0.242790</td>\n",
              "      <td>0.076066</td>\n",
              "      <td>0.0</td>\n",
              "      <td>0.000000</td>\n",
              "      <td>0.009139</td>\n",
              "      <td>0.010439</td>\n",
              "      <td>0.360867</td>\n",
              "      <td>0.071189</td>\n",
              "      <td>0.177927</td>\n",
              "      <td>0.011553</td>\n",
              "      <td>0.040030</td>\n",
              "      <td>1.0</td>\n",
              "    </tr>\n",
              "    <tr>\n",
              "      <th>...</th>\n",
              "      <td>...</td>\n",
              "      <td>...</td>\n",
              "      <td>...</td>\n",
              "      <td>...</td>\n",
              "      <td>...</td>\n",
              "      <td>...</td>\n",
              "      <td>...</td>\n",
              "      <td>...</td>\n",
              "      <td>...</td>\n",
              "      <td>...</td>\n",
              "      <td>...</td>\n",
              "      <td>...</td>\n",
              "    </tr>\n",
              "    <tr>\n",
              "      <th>19356</th>\n",
              "      <td>0.515221</td>\n",
              "      <td>0.000000</td>\n",
              "      <td>0.0</td>\n",
              "      <td>0.000000</td>\n",
              "      <td>0.000000</td>\n",
              "      <td>0.000000</td>\n",
              "      <td>0.461331</td>\n",
              "      <td>0.000000</td>\n",
              "      <td>0.023449</td>\n",
              "      <td>0.000000</td>\n",
              "      <td>0.000000</td>\n",
              "      <td>1.0</td>\n",
              "    </tr>\n",
              "    <tr>\n",
              "      <th>19357</th>\n",
              "      <td>0.322458</td>\n",
              "      <td>0.000000</td>\n",
              "      <td>0.0</td>\n",
              "      <td>0.000000</td>\n",
              "      <td>0.000000</td>\n",
              "      <td>0.000000</td>\n",
              "      <td>0.209897</td>\n",
              "      <td>0.467645</td>\n",
              "      <td>0.000000</td>\n",
              "      <td>0.000000</td>\n",
              "      <td>0.000000</td>\n",
              "      <td>1.0</td>\n",
              "    </tr>\n",
              "    <tr>\n",
              "      <th>19359</th>\n",
              "      <td>0.284788</td>\n",
              "      <td>0.000000</td>\n",
              "      <td>0.0</td>\n",
              "      <td>0.000000</td>\n",
              "      <td>0.000000</td>\n",
              "      <td>0.000000</td>\n",
              "      <td>0.714054</td>\n",
              "      <td>0.000000</td>\n",
              "      <td>0.001158</td>\n",
              "      <td>0.000000</td>\n",
              "      <td>0.000000</td>\n",
              "      <td>1.0</td>\n",
              "    </tr>\n",
              "    <tr>\n",
              "      <th>19360</th>\n",
              "      <td>0.227551</td>\n",
              "      <td>0.000000</td>\n",
              "      <td>0.0</td>\n",
              "      <td>0.000000</td>\n",
              "      <td>0.000000</td>\n",
              "      <td>0.000000</td>\n",
              "      <td>0.000000</td>\n",
              "      <td>0.000000</td>\n",
              "      <td>0.772449</td>\n",
              "      <td>0.000000</td>\n",
              "      <td>0.000000</td>\n",
              "      <td>1.0</td>\n",
              "    </tr>\n",
              "    <tr>\n",
              "      <th>19364</th>\n",
              "      <td>0.028833</td>\n",
              "      <td>0.000000</td>\n",
              "      <td>0.0</td>\n",
              "      <td>0.000000</td>\n",
              "      <td>0.000000</td>\n",
              "      <td>0.000000</td>\n",
              "      <td>0.000000</td>\n",
              "      <td>0.000000</td>\n",
              "      <td>0.805404</td>\n",
              "      <td>0.165763</td>\n",
              "      <td>0.000000</td>\n",
              "      <td>1.0</td>\n",
              "    </tr>\n",
              "  </tbody>\n",
              "</table>\n",
              "<p>19085 rows × 12 columns</p>\n",
              "</div>"
            ],
            "text/plain": [
              "       가공식품_구매금액_r  가구/인테리어_구매금액_r  ...  패션잡화_구매금액_r  total\n",
              "1         0.178166        0.034956  ...     0.086165    1.0\n",
              "2         0.061068        0.071338  ...     0.037138    1.0\n",
              "3         0.622933        0.000000  ...     0.000000    1.0\n",
              "4         0.160786        0.024942  ...     0.153065    1.0\n",
              "5         0.242790        0.076066  ...     0.040030    1.0\n",
              "...            ...             ...  ...          ...    ...\n",
              "19356     0.515221        0.000000  ...     0.000000    1.0\n",
              "19357     0.322458        0.000000  ...     0.000000    1.0\n",
              "19359     0.284788        0.000000  ...     0.000000    1.0\n",
              "19360     0.227551        0.000000  ...     0.000000    1.0\n",
              "19364     0.028833        0.000000  ...     0.000000    1.0\n",
              "\n",
              "[19085 rows x 12 columns]"
            ]
          },
          "metadata": {},
          "execution_count": 31
        }
      ]
    },
    {
      "cell_type": "code",
      "metadata": {
        "id": "octvamxeBKe7"
      },
      "source": [
        "def ratio(df):\n",
        "  global sorting_cols, def_cols, sum_cols, confirm_cols\n",
        "  s_df = df[sorting_cols]\n",
        "  for i in def_cols:\n",
        "    s_df[f'{i}_r'] = s_df[i] / s_df['총구매금액']\n",
        "  s_df['total'] = s_df[sum_cols].sum(axis=1)\n",
        "  s_df = s_df[confirm_cols]\n",
        "  return s_df\n"
      ],
      "execution_count": 34,
      "outputs": []
    },
    {
      "cell_type": "code",
      "metadata": {
        "id": "BXf1U0FtB6MX"
      },
      "source": [
        "pp_1 = ratio(pr_1)\n",
        "pp_2 = ratio(pr_2)\n",
        "pp_3 = ratio(pr_3)\n",
        "pp_4 = ratio(pr_4)"
      ],
      "execution_count": 40,
      "outputs": []
    },
    {
      "cell_type": "code",
      "metadata": {
        "id": "62Hkh58iB_Mh"
      },
      "source": [
        "pr_1_2 = pp_2 - pp_1\n",
        "pr_2_3 = pp_3 - pp_2\n",
        "pr_3_4 = pp_4 - pp_3"
      ],
      "execution_count": 44,
      "outputs": []
    },
    {
      "cell_type": "code",
      "metadata": {
        "id": "AsLVooOxCADC"
      },
      "source": [
        "with open('/content/drive/MyDrive/공유문서/1차 프로젝트/5조/매출감소고객_예측모델_변수생성/3_4/pur_amt_ratio.pkl','wb') as file:\n",
        "  pickle.dump(pr_3_4,file)"
      ],
      "execution_count": 48,
      "outputs": []
    },
    {
      "cell_type": "code",
      "metadata": {
        "id": "XCzc4p2xC6rE"
      },
      "source": [
        ""
      ],
      "execution_count": null,
      "outputs": []
    }
  ]
}