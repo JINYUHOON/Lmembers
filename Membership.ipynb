{
  "nbformat": 4,
  "nbformat_minor": 0,
  "metadata": {
    "colab": {
      "name": "Membership.ipynb",
      "provenance": [],
      "machine_shape": "hm",
      "authorship_tag": "ABX9TyPRgd8WF6JDIjsFmy9CpmSH",
      "include_colab_link": true
    },
    "kernelspec": {
      "name": "python3",
      "display_name": "Python 3"
    },
    "language_info": {
      "name": "python"
    },
    "accelerator": "GPU"
  },
  "cells": [
    {
      "cell_type": "markdown",
      "metadata": {
        "id": "view-in-github",
        "colab_type": "text"
      },
      "source": [
        "<a href=\"https://colab.research.google.com/github/kikiru328/enterprise_analysis/blob/main/Membership.ipynb\" target=\"_parent\"><img src=\"https://colab.research.google.com/assets/colab-badge.svg\" alt=\"Open In Colab\"/></a>"
      ]
    },
    {
      "cell_type": "code",
      "metadata": {
        "colab": {
          "base_uri": "https://localhost:8080/"
        },
        "id": "IhR_aMQEW3nc",
        "outputId": "0bfe4c88-9c26-4151-8c44-06799d3887b3"
      },
      "source": [
        "# colab drive mount\n",
        "\n",
        "import os, sys\n",
        "from google.colab import drive\n",
        "drive.mount('/content/drive')\n",
        "my_path = '/content/notebooks'\n",
        "os.symlink('/content/drive/My Drive/Colab Notebooks', my_path)\n",
        "sys.path.insert(0,my_path)"
      ],
      "execution_count": 1,
      "outputs": [
        {
          "output_type": "stream",
          "name": "stdout",
          "text": [
            "Mounted at /content/drive\n"
          ]
        }
      ]
    },
    {
      "cell_type": "code",
      "metadata": {
        "colab": {
          "base_uri": "https://localhost:8080/"
        },
        "id": "k0ZFlCiTW7_O",
        "outputId": "524c2144-4473-43fc-c612-7888aaee3a53"
      },
      "source": [
        "# Directory 변경 (모듈이용)\n",
        "%pwd\n",
        "%cd '../content/notebooks'\n",
        "# module import\n",
        "## Data Load\n",
        "from pickle5 import pickle \n",
        "\n",
        "## Basic module\n",
        "import pandas as pd\n",
        "import numpy as np\n",
        "import datetime as dt\n",
        "import seaborn as sns\n",
        "import matplotlib.pyplot as plt\n",
        "plt.rc('font', family='NanumBarunGothic')"
      ],
      "execution_count": 2,
      "outputs": [
        {
          "output_type": "stream",
          "name": "stdout",
          "text": [
            "/content/drive/My Drive/Colab Notebooks\n"
          ]
        }
      ]
    },
    {
      "cell_type": "code",
      "metadata": {
        "colab": {
          "base_uri": "https://localhost:8080/",
          "height": 408
        },
        "id": "SDD-_65VXFmy",
        "outputId": "7d5f65e1-b7fd-4380-9b98-914d1d6fa4b3"
      },
      "source": [
        "membership = pd.read_csv('/content/drive/MyDrive/공유문서/1차 프로젝트/5조/LOTT/멤버십여부.txt',encoding='cp949')\n",
        "customer = pd.read_csv('/content/drive/MyDrive/공유문서/1차 프로젝트/5조/LOTT/고객DEMO.txt',encoding='cp949')\n",
        "membership"
      ],
      "execution_count": 4,
      "outputs": [
        {
          "output_type": "execute_result",
          "data": {
            "text/html": [
              "<div>\n",
              "<style scoped>\n",
              "    .dataframe tbody tr th:only-of-type {\n",
              "        vertical-align: middle;\n",
              "    }\n",
              "\n",
              "    .dataframe tbody tr th {\n",
              "        vertical-align: top;\n",
              "    }\n",
              "\n",
              "    .dataframe thead th {\n",
              "        text-align: right;\n",
              "    }\n",
              "</style>\n",
              "<table border=\"1\" class=\"dataframe\">\n",
              "  <thead>\n",
              "    <tr style=\"text-align: right;\">\n",
              "      <th></th>\n",
              "      <th>고객번호</th>\n",
              "      <th>멤버십명</th>\n",
              "      <th>가입년월</th>\n",
              "    </tr>\n",
              "  </thead>\n",
              "  <tbody>\n",
              "    <tr>\n",
              "      <th>0</th>\n",
              "      <td>11</td>\n",
              "      <td>하이마트</td>\n",
              "      <td>201512</td>\n",
              "    </tr>\n",
              "    <tr>\n",
              "      <th>1</th>\n",
              "      <td>21</td>\n",
              "      <td>하이마트</td>\n",
              "      <td>201506</td>\n",
              "    </tr>\n",
              "    <tr>\n",
              "      <th>2</th>\n",
              "      <td>37</td>\n",
              "      <td>하이마트</td>\n",
              "      <td>201306</td>\n",
              "    </tr>\n",
              "    <tr>\n",
              "      <th>3</th>\n",
              "      <td>43</td>\n",
              "      <td>하이마트</td>\n",
              "      <td>201403</td>\n",
              "    </tr>\n",
              "    <tr>\n",
              "      <th>4</th>\n",
              "      <td>44</td>\n",
              "      <td>하이마트</td>\n",
              "      <td>201411</td>\n",
              "    </tr>\n",
              "    <tr>\n",
              "      <th>...</th>\n",
              "      <td>...</td>\n",
              "      <td>...</td>\n",
              "      <td>...</td>\n",
              "    </tr>\n",
              "    <tr>\n",
              "      <th>7451</th>\n",
              "      <td>19377</td>\n",
              "      <td>롭스</td>\n",
              "      <td>201411</td>\n",
              "    </tr>\n",
              "    <tr>\n",
              "      <th>7452</th>\n",
              "      <td>19379</td>\n",
              "      <td>롭스</td>\n",
              "      <td>201412</td>\n",
              "    </tr>\n",
              "    <tr>\n",
              "      <th>7453</th>\n",
              "      <td>19380</td>\n",
              "      <td>롭스</td>\n",
              "      <td>201412</td>\n",
              "    </tr>\n",
              "    <tr>\n",
              "      <th>7454</th>\n",
              "      <td>19381</td>\n",
              "      <td>다둥이</td>\n",
              "      <td>201506</td>\n",
              "    </tr>\n",
              "    <tr>\n",
              "      <th>7455</th>\n",
              "      <td>19383</td>\n",
              "      <td>롭스</td>\n",
              "      <td>201507</td>\n",
              "    </tr>\n",
              "  </tbody>\n",
              "</table>\n",
              "<p>7456 rows × 3 columns</p>\n",
              "</div>"
            ],
            "text/plain": [
              "       고객번호  멤버십명    가입년월\n",
              "0        11  하이마트  201512\n",
              "1        21  하이마트  201506\n",
              "2        37  하이마트  201306\n",
              "3        43  하이마트  201403\n",
              "4        44  하이마트  201411\n",
              "...     ...   ...     ...\n",
              "7451  19377    롭스  201411\n",
              "7452  19379    롭스  201412\n",
              "7453  19380    롭스  201412\n",
              "7454  19381   다둥이  201506\n",
              "7455  19383    롭스  201507\n",
              "\n",
              "[7456 rows x 3 columns]"
            ]
          },
          "metadata": {},
          "execution_count": 4
        }
      ]
    },
    {
      "cell_type": "code",
      "metadata": {
        "id": "kRvXG4RDYDqA"
      },
      "source": [
        "membership = membership.sort_values(by='가입년월',ascending=True)"
      ],
      "execution_count": 7,
      "outputs": []
    },
    {
      "cell_type": "code",
      "metadata": {
        "id": "uDsOR32Tc0oQ"
      },
      "source": [
        "membership['가입개수'] = 1"
      ],
      "execution_count": 26,
      "outputs": []
    },
    {
      "cell_type": "code",
      "metadata": {
        "colab": {
          "base_uri": "https://localhost:8080/",
          "height": 408
        },
        "id": "by1oQF_edP6R",
        "outputId": "13a7d705-f847-4940-8731-ba545d9f62f2"
      },
      "source": [
        "membership"
      ],
      "execution_count": 32,
      "outputs": [
        {
          "output_type": "execute_result",
          "data": {
            "text/html": [
              "<div>\n",
              "<style scoped>\n",
              "    .dataframe tbody tr th:only-of-type {\n",
              "        vertical-align: middle;\n",
              "    }\n",
              "\n",
              "    .dataframe tbody tr th {\n",
              "        vertical-align: top;\n",
              "    }\n",
              "\n",
              "    .dataframe thead th {\n",
              "        text-align: right;\n",
              "    }\n",
              "</style>\n",
              "<table border=\"1\" class=\"dataframe\">\n",
              "  <thead>\n",
              "    <tr style=\"text-align: right;\">\n",
              "      <th></th>\n",
              "      <th>고객번호</th>\n",
              "      <th>멤버십명</th>\n",
              "      <th>가입년월</th>\n",
              "      <th>가입개수</th>\n",
              "    </tr>\n",
              "  </thead>\n",
              "  <tbody>\n",
              "    <tr>\n",
              "      <th>2666</th>\n",
              "      <td>8656</td>\n",
              "      <td>더영</td>\n",
              "      <td>201210</td>\n",
              "      <td>1</td>\n",
              "    </tr>\n",
              "    <tr>\n",
              "      <th>5632</th>\n",
              "      <td>14781</td>\n",
              "      <td>더영</td>\n",
              "      <td>201210</td>\n",
              "      <td>1</td>\n",
              "    </tr>\n",
              "    <tr>\n",
              "      <th>7008</th>\n",
              "      <td>18264</td>\n",
              "      <td>더영</td>\n",
              "      <td>201210</td>\n",
              "      <td>1</td>\n",
              "    </tr>\n",
              "    <tr>\n",
              "      <th>2882</th>\n",
              "      <td>9001</td>\n",
              "      <td>더영</td>\n",
              "      <td>201210</td>\n",
              "      <td>1</td>\n",
              "    </tr>\n",
              "    <tr>\n",
              "      <th>4892</th>\n",
              "      <td>13071</td>\n",
              "      <td>더영</td>\n",
              "      <td>201211</td>\n",
              "      <td>1</td>\n",
              "    </tr>\n",
              "    <tr>\n",
              "      <th>...</th>\n",
              "      <td>...</td>\n",
              "      <td>...</td>\n",
              "      <td>...</td>\n",
              "      <td>...</td>\n",
              "    </tr>\n",
              "    <tr>\n",
              "      <th>4799</th>\n",
              "      <td>12868</td>\n",
              "      <td>더영</td>\n",
              "      <td>201512</td>\n",
              "      <td>1</td>\n",
              "    </tr>\n",
              "    <tr>\n",
              "      <th>4794</th>\n",
              "      <td>12862</td>\n",
              "      <td>하이마트</td>\n",
              "      <td>201512</td>\n",
              "      <td>1</td>\n",
              "    </tr>\n",
              "    <tr>\n",
              "      <th>2658</th>\n",
              "      <td>8640</td>\n",
              "      <td>하이마트</td>\n",
              "      <td>201512</td>\n",
              "      <td>1</td>\n",
              "    </tr>\n",
              "    <tr>\n",
              "      <th>4766</th>\n",
              "      <td>12804</td>\n",
              "      <td>하이마트</td>\n",
              "      <td>201512</td>\n",
              "      <td>1</td>\n",
              "    </tr>\n",
              "    <tr>\n",
              "      <th>0</th>\n",
              "      <td>11</td>\n",
              "      <td>하이마트</td>\n",
              "      <td>201512</td>\n",
              "      <td>1</td>\n",
              "    </tr>\n",
              "  </tbody>\n",
              "</table>\n",
              "<p>7456 rows × 4 columns</p>\n",
              "</div>"
            ],
            "text/plain": [
              "       고객번호  멤버십명    가입년월  가입개수\n",
              "2666   8656    더영  201210     1\n",
              "5632  14781    더영  201210     1\n",
              "7008  18264    더영  201210     1\n",
              "2882   9001    더영  201210     1\n",
              "4892  13071    더영  201211     1\n",
              "...     ...   ...     ...   ...\n",
              "4799  12868    더영  201512     1\n",
              "4794  12862  하이마트  201512     1\n",
              "2658   8640  하이마트  201512     1\n",
              "4766  12804  하이마트  201512     1\n",
              "0        11  하이마트  201512     1\n",
              "\n",
              "[7456 rows x 4 columns]"
            ]
          },
          "metadata": {},
          "execution_count": 32
        }
      ]
    },
    {
      "cell_type": "code",
      "metadata": {
        "colab": {
          "base_uri": "https://localhost:8080/",
          "height": 440
        },
        "id": "-FPsAtepYZ2c",
        "outputId": "df2f1c95-f715-4288-a72f-c1d4a7243461"
      },
      "source": [
        "mg = membership.groupby(['고객번호','멤버십명'])[['멤버십명','가입년월','가입개수']].sum()\n",
        "mg = mg.sort_values(by='가입개수',ascending=False)\n",
        "mg"
      ],
      "execution_count": 43,
      "outputs": [
        {
          "output_type": "execute_result",
          "data": {
            "text/html": [
              "<div>\n",
              "<style scoped>\n",
              "    .dataframe tbody tr th:only-of-type {\n",
              "        vertical-align: middle;\n",
              "    }\n",
              "\n",
              "    .dataframe tbody tr th {\n",
              "        vertical-align: top;\n",
              "    }\n",
              "\n",
              "    .dataframe thead th {\n",
              "        text-align: right;\n",
              "    }\n",
              "</style>\n",
              "<table border=\"1\" class=\"dataframe\">\n",
              "  <thead>\n",
              "    <tr style=\"text-align: right;\">\n",
              "      <th></th>\n",
              "      <th></th>\n",
              "      <th>가입년월</th>\n",
              "      <th>가입개수</th>\n",
              "    </tr>\n",
              "    <tr>\n",
              "      <th>고객번호</th>\n",
              "      <th>멤버십명</th>\n",
              "      <th></th>\n",
              "      <th></th>\n",
              "    </tr>\n",
              "  </thead>\n",
              "  <tbody>\n",
              "    <tr>\n",
              "      <th>11</th>\n",
              "      <th>하이마트</th>\n",
              "      <td>201512</td>\n",
              "      <td>1</td>\n",
              "    </tr>\n",
              "    <tr>\n",
              "      <th>13229</th>\n",
              "      <th>더영</th>\n",
              "      <td>201508</td>\n",
              "      <td>1</td>\n",
              "    </tr>\n",
              "    <tr>\n",
              "      <th>13255</th>\n",
              "      <th>하이마트</th>\n",
              "      <td>201402</td>\n",
              "      <td>1</td>\n",
              "    </tr>\n",
              "    <tr>\n",
              "      <th rowspan=\"2\" valign=\"top\">13249</th>\n",
              "      <th>하이마트</th>\n",
              "      <td>201502</td>\n",
              "      <td>1</td>\n",
              "    </tr>\n",
              "    <tr>\n",
              "      <th>다둥이</th>\n",
              "      <td>201502</td>\n",
              "      <td>1</td>\n",
              "    </tr>\n",
              "    <tr>\n",
              "      <th>...</th>\n",
              "      <th>...</th>\n",
              "      <td>...</td>\n",
              "      <td>...</td>\n",
              "    </tr>\n",
              "    <tr>\n",
              "      <th>8288</th>\n",
              "      <th>다둥이</th>\n",
              "      <td>201504</td>\n",
              "      <td>1</td>\n",
              "    </tr>\n",
              "    <tr>\n",
              "      <th>8286</th>\n",
              "      <th>다둥이</th>\n",
              "      <td>201309</td>\n",
              "      <td>1</td>\n",
              "    </tr>\n",
              "    <tr>\n",
              "      <th>8284</th>\n",
              "      <th>다둥이</th>\n",
              "      <td>201307</td>\n",
              "      <td>1</td>\n",
              "    </tr>\n",
              "    <tr>\n",
              "      <th>8281</th>\n",
              "      <th>다둥이</th>\n",
              "      <td>201409</td>\n",
              "      <td>1</td>\n",
              "    </tr>\n",
              "    <tr>\n",
              "      <th>19383</th>\n",
              "      <th>롭스</th>\n",
              "      <td>201507</td>\n",
              "      <td>1</td>\n",
              "    </tr>\n",
              "  </tbody>\n",
              "</table>\n",
              "<p>7456 rows × 2 columns</p>\n",
              "</div>"
            ],
            "text/plain": [
              "              가입년월  가입개수\n",
              "고객번호  멤버십명              \n",
              "11    하이마트  201512     1\n",
              "13229 더영    201508     1\n",
              "13255 하이마트  201402     1\n",
              "13249 하이마트  201502     1\n",
              "      다둥이   201502     1\n",
              "...            ...   ...\n",
              "8288  다둥이   201504     1\n",
              "8286  다둥이   201309     1\n",
              "8284  다둥이   201307     1\n",
              "8281  다둥이   201409     1\n",
              "19383 롭스    201507     1\n",
              "\n",
              "[7456 rows x 2 columns]"
            ]
          },
          "metadata": {},
          "execution_count": 43
        }
      ]
    },
    {
      "cell_type": "code",
      "metadata": {
        "id": "nZbJA_iVYenK"
      },
      "source": [
        "sns.barplot?"
      ],
      "execution_count": 10,
      "outputs": []
    },
    {
      "cell_type": "code",
      "metadata": {
        "id": "xJVu3uNrYkqN"
      },
      "source": [
        ""
      ],
      "execution_count": null,
      "outputs": []
    }
  ]
}