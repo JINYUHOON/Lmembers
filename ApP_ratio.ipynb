{
  "nbformat": 4,
  "nbformat_minor": 0,
  "metadata": {
    "colab": {
      "name": "ApP_ratio.ipynb",
      "provenance": [],
      "collapsed_sections": [],
      "machine_shape": "hm",
      "authorship_tag": "ABX9TyOn4gUDzmSLiIKP9bcC1jvF",
      "include_colab_link": true
    },
    "kernelspec": {
      "name": "python3",
      "display_name": "Python 3"
    },
    "language_info": {
      "name": "python"
    },
    "accelerator": "GPU"
  },
  "cells": [
    {
      "cell_type": "markdown",
      "metadata": {
        "id": "view-in-github",
        "colab_type": "text"
      },
      "source": [
        "<a href=\"https://colab.research.google.com/github/kikiru328/enterprise_analysis/blob/main/ApP_ratio.ipynb\" target=\"_parent\"><img src=\"https://colab.research.google.com/assets/colab-badge.svg\" alt=\"Open In Colab\"/></a>"
      ]
    },
    {
      "cell_type": "code",
      "metadata": {
        "id": "YMHoyGxAvvvt",
        "colab": {
          "base_uri": "https://localhost:8080/"
        },
        "outputId": "e88ef1bc-8eb4-402b-f837-ceece12b3605"
      },
      "source": [
        "import os, sys\n",
        "from google.colab import drive\n",
        "drive.mount('/content/drive')\n",
        "my_path = '/content/notebooks'\n",
        "os.symlink('/content/drive/My Drive/Colab Notebooks', my_path)\n",
        "sys.path.insert(0,my_path)\n"
      ],
      "execution_count": 1,
      "outputs": [
        {
          "output_type": "stream",
          "name": "stdout",
          "text": [
            "Mounted at /content/drive\n"
          ]
        }
      ]
    },
    {
      "cell_type": "code",
      "metadata": {
        "colab": {
          "base_uri": "https://localhost:8080/"
        },
        "id": "VjEX1T2Ovw87",
        "outputId": "b1c092d8-c1ee-4587-972a-f5ef146b792a"
      },
      "source": [
        "#  Directory 변경 (모듈이용)\n",
        "%pwd\n",
        "%cd '../content/notebooks'\n",
        "\n",
        "# module import\n",
        "## Data Load\n",
        "from pickle5 import pickle \n",
        "\n",
        "## Basic module\n",
        "import pandas as pd\n",
        "import numpy as np\n",
        "import datetime as dt\n",
        "import seaborn as sns\n",
        "import matplotlib.pyplot as plt\n",
        "plt.rc('font', family='NanumBarunGothic')\n",
        "\n",
        "import warnings\n",
        "warnings.filterwarnings('ignore')"
      ],
      "execution_count": 2,
      "outputs": [
        {
          "output_type": "stream",
          "name": "stdout",
          "text": [
            "/content/drive/My Drive/Colab Notebooks\n"
          ]
        }
      ]
    },
    {
      "cell_type": "code",
      "metadata": {
        "id": "oDJgjuC6wIoN"
      },
      "source": [
        "with open('/content/drive/MyDrive/공유문서/1차 프로젝트/5조/data/EDA/기존_purprd_cust.pkl','rb') as file:\n",
        "  df = pickle.load(file)\n"
      ],
      "execution_count": 34,
      "outputs": []
    },
    {
      "cell_type": "code",
      "metadata": {
        "id": "BxVf8C8Zppwt"
      },
      "source": [
        "df_1 = df[(df['구매년도']==2014)&(df['구매월']>=1) & (df['구매월']<=6)] \n",
        "df_2= df[(df['구매년도']==2014)&(df['구매월']>=7) & (df['구매월']<=12)]\n",
        "df_3= df[(df['구매년도']==2015)&(df['구매월']>=1) & (df['구매월']<=6)]\n",
        "df_4 = df[(df['구매년도']==2015)&(df['구매월']>=7) & (df['구매월']<=12)]"
      ],
      "execution_count": 5,
      "outputs": []
    },
    {
      "cell_type": "code",
      "metadata": {
        "id": "pIvHM8sx7Pmx"
      },
      "source": [
        "df_1 = df[(df['구매년도']==2014) & (df['구매월']>=1) & (df['구매월']<=6)]\n",
        "df_2 = df[(df['구매년도']==2014)&(df['구매월']>=7) & (df['구매월']<=12)]\n",
        "df_3 = df[(df['구매년도']==2015)&(df['구매월']>=1) & (df['구매월']<=6)]\n",
        "df_4 = df[(df['구매년도']==2015)&(df['구매월']>=7) & (df['구매월']<=12)]\n",
        "\n",
        "\n",
        "def train_test_df(df):\n",
        "  def countpur(df,a):\n",
        "    countpur = df[['고객번호','영수증번호','대분류명','구매금액']]\n",
        "    countpur = countpur.groupby(['고객번호','영수증번호','대분류명']).sum()\n",
        "    countpur = countpur.reset_index()\n",
        "    countpur = countpur.groupby(['영수증번호','고객번호']).sum()\n",
        "    countpur = countpur.reset_index()\n",
        "    countpur['거래횟수'] = 1 \n",
        "    countpur = countpur.groupby('고객번호').sum()\n",
        "    countpur = countpur.drop('영수증번호',axis=1)\n",
        "    countpur['객단가'] = countpur['구매금액'] / countpur['거래횟수']\n",
        "    countpur = countpur.drop(['구매금액','거래횟수'],axis=1)\n",
        "    cols = list(countpur.columns)\n",
        "    for i in cols:\n",
        "      countpur[f'{a}_{i}'] = countpur[i]\n",
        "    countpur = countpur.drop(cols,axis=1)\n",
        "    return countpur\n",
        "\n",
        "  H1 = countpur(df_1,'H1')\n",
        "  H2 = countpur(df_2,'H2')\n",
        "  H3 = countpur(df_3,'H3')\n",
        "  H4 = countpur(df_4,'H4') \n",
        "\n",
        "  def train_df(a,b,c):\n",
        "    A = pd.concat([a,b],axis=1)\n",
        "    train = pd.concat([A,c],axis=1)\n",
        "    return train\n",
        "\n",
        "  train = train_df(H1,H2,H3)\n",
        "  return train, H4\n",
        "test = H4.copy()"
      ],
      "execution_count": 50,
      "outputs": []
    },
    {
      "cell_type": "code",
      "metadata": {
        "colab": {
          "base_uri": "https://localhost:8080/",
          "height": 448
        },
        "id": "jx5WBWtY7oNZ",
        "outputId": "875f9e19-be66-4a71-89c9-6872d94711d7"
      },
      "source": [
        "train_test_df(df)\n",
        "display(train.head())\n",
        "display(test.head())"
      ],
      "execution_count": 51,
      "outputs": [
        {
          "output_type": "display_data",
          "data": {
            "text/html": [
              "<div>\n",
              "<style scoped>\n",
              "    .dataframe tbody tr th:only-of-type {\n",
              "        vertical-align: middle;\n",
              "    }\n",
              "\n",
              "    .dataframe tbody tr th {\n",
              "        vertical-align: top;\n",
              "    }\n",
              "\n",
              "    .dataframe thead th {\n",
              "        text-align: right;\n",
              "    }\n",
              "</style>\n",
              "<table border=\"1\" class=\"dataframe\">\n",
              "  <thead>\n",
              "    <tr style=\"text-align: right;\">\n",
              "      <th></th>\n",
              "      <th>H1_ApP</th>\n",
              "      <th>H2_ApP</th>\n",
              "      <th>H3_ApP</th>\n",
              "    </tr>\n",
              "    <tr>\n",
              "      <th>고객번호</th>\n",
              "      <th></th>\n",
              "      <th></th>\n",
              "      <th></th>\n",
              "    </tr>\n",
              "  </thead>\n",
              "  <tbody>\n",
              "    <tr>\n",
              "      <th>1</th>\n",
              "      <td>125316.698113</td>\n",
              "      <td>155782.246575</td>\n",
              "      <td>96747.918919</td>\n",
              "    </tr>\n",
              "    <tr>\n",
              "      <th>2</th>\n",
              "      <td>129378.882979</td>\n",
              "      <td>131270.059880</td>\n",
              "      <td>167419.337349</td>\n",
              "    </tr>\n",
              "    <tr>\n",
              "      <th>3</th>\n",
              "      <td>6650.117188</td>\n",
              "      <td>6205.678571</td>\n",
              "      <td>6300.851064</td>\n",
              "    </tr>\n",
              "    <tr>\n",
              "      <th>4</th>\n",
              "      <td>36803.693431</td>\n",
              "      <td>40547.714286</td>\n",
              "      <td>27290.574627</td>\n",
              "    </tr>\n",
              "    <tr>\n",
              "      <th>5</th>\n",
              "      <td>24818.863636</td>\n",
              "      <td>29676.400000</td>\n",
              "      <td>36233.703704</td>\n",
              "    </tr>\n",
              "  </tbody>\n",
              "</table>\n",
              "</div>"
            ],
            "text/plain": [
              "             H1_ApP         H2_ApP         H3_ApP\n",
              "고객번호                                             \n",
              "1     125316.698113  155782.246575   96747.918919\n",
              "2     129378.882979  131270.059880  167419.337349\n",
              "3       6650.117188    6205.678571    6300.851064\n",
              "4      36803.693431   40547.714286   27290.574627\n",
              "5      24818.863636   29676.400000   36233.703704"
            ]
          },
          "metadata": {}
        },
        {
          "output_type": "display_data",
          "data": {
            "text/html": [
              "<div>\n",
              "<style scoped>\n",
              "    .dataframe tbody tr th:only-of-type {\n",
              "        vertical-align: middle;\n",
              "    }\n",
              "\n",
              "    .dataframe tbody tr th {\n",
              "        vertical-align: top;\n",
              "    }\n",
              "\n",
              "    .dataframe thead th {\n",
              "        text-align: right;\n",
              "    }\n",
              "</style>\n",
              "<table border=\"1\" class=\"dataframe\">\n",
              "  <thead>\n",
              "    <tr style=\"text-align: right;\">\n",
              "      <th></th>\n",
              "      <th>H4_ApP</th>\n",
              "    </tr>\n",
              "    <tr>\n",
              "      <th>고객번호</th>\n",
              "      <th></th>\n",
              "    </tr>\n",
              "  </thead>\n",
              "  <tbody>\n",
              "    <tr>\n",
              "      <th>1</th>\n",
              "      <td>111038.288136</td>\n",
              "    </tr>\n",
              "    <tr>\n",
              "      <th>2</th>\n",
              "      <td>166734.322581</td>\n",
              "    </tr>\n",
              "    <tr>\n",
              "      <th>3</th>\n",
              "      <td>6791.180000</td>\n",
              "    </tr>\n",
              "    <tr>\n",
              "      <th>4</th>\n",
              "      <td>23804.184713</td>\n",
              "    </tr>\n",
              "    <tr>\n",
              "      <th>5</th>\n",
              "      <td>52325.200000</td>\n",
              "    </tr>\n",
              "  </tbody>\n",
              "</table>\n",
              "</div>"
            ],
            "text/plain": [
              "             H4_ApP\n",
              "고객번호               \n",
              "1     111038.288136\n",
              "2     166734.322581\n",
              "3       6791.180000\n",
              "4      23804.184713\n",
              "5      52325.200000"
            ]
          },
          "metadata": {}
        }
      ]
    },
    {
      "cell_type": "code",
      "metadata": {
        "id": "VAgniQgj9WuX"
      },
      "source": [
        "with open('/content/drive/MyDrive/공유문서/1차 프로젝트/5조/진짜진짜최종/123(train)/객단가123.pkl', 'wb') as train_save:\n",
        "  pickle.dump(train,train_save)\n",
        "with open('/content/drive/MyDrive/공유문서/1차 프로젝트/5조/진짜진짜최종/4(test)/객단가4.pkl', 'wb') as test_save:\n",
        "  pickle.dump(test,test_save)"
      ],
      "execution_count": 54,
      "outputs": []
    }
  ]
}