{
  "nbformat": 4,
  "nbformat_minor": 0,
  "metadata": {
    "colab": {
      "name": "권준기의 암살시도.ipynb",
      "provenance": [],
      "collapsed_sections": [],
      "machine_shape": "hm",
      "authorship_tag": "ABX9TyNgjVx99krEtszLHjmW70Vf",
      "include_colab_link": true
    },
    "kernelspec": {
      "name": "python3",
      "display_name": "Python 3"
    },
    "language_info": {
      "name": "python"
    },
    "accelerator": "GPU"
  },
  "cells": [
    {
      "cell_type": "markdown",
      "metadata": {
        "id": "view-in-github",
        "colab_type": "text"
      },
      "source": [
        "<a href=\"https://colab.research.google.com/github/kikiru328/enterprise_analysis/blob/main/%EA%B6%8C%EC%A4%80%EA%B8%B0%EC%9D%98_%EC%95%94%EC%82%B4%EC%8B%9C%EB%8F%84.ipynb\" target=\"_parent\"><img src=\"https://colab.research.google.com/assets/colab-badge.svg\" alt=\"Open In Colab\"/></a>"
      ]
    },
    {
      "cell_type": "code",
      "metadata": {
        "id": "-VullZPr07zV"
      },
      "source": [
        ""
      ],
      "execution_count": null,
      "outputs": []
    },
    {
      "cell_type": "code",
      "metadata": {
        "colab": {
          "base_uri": "https://localhost:8080/"
        },
        "id": "YMHoyGxAvvvt",
        "outputId": "43d05f29-9614-431c-8ecc-4f7ac908d643"
      },
      "source": [
        "import os, sys\n",
        "from google.colab import drive\n",
        "drive.mount('/content/drive')\n",
        "my_path = '/content/notebooks'\n",
        "os.symlink('/content/drive/My Drive/Colab Notebooks', my_path)\n",
        "sys.path.insert(0,my_path)\n",
        "\n",
        "# 한글폰트\n",
        "!sudo apt-get install -y fonts-nanum\n",
        "!sudo fc-cache -fv\n",
        "!rm ~/.cache/matplotlib -rf\n",
        "## 돌리고 런타임 재시작\n",
        "## 드라이브 마운트, 한글폰트설치코드 제외 셀 실행"
      ],
      "execution_count": 1,
      "outputs": [
        {
          "output_type": "stream",
          "name": "stdout",
          "text": [
            "Mounted at /content/drive\n",
            "Reading package lists... Done\n",
            "Building dependency tree       \n",
            "Reading state information... Done\n",
            "The following NEW packages will be installed:\n",
            "  fonts-nanum\n",
            "0 upgraded, 1 newly installed, 0 to remove and 37 not upgraded.\n",
            "Need to get 9,604 kB of archives.\n",
            "After this operation, 29.5 MB of additional disk space will be used.\n",
            "Get:1 http://archive.ubuntu.com/ubuntu bionic/universe amd64 fonts-nanum all 20170925-1 [9,604 kB]\n",
            "Fetched 9,604 kB in 3s (3,099 kB/s)\n",
            "debconf: unable to initialize frontend: Dialog\n",
            "debconf: (No usable dialog-like program is installed, so the dialog based frontend cannot be used. at /usr/share/perl5/Debconf/FrontEnd/Dialog.pm line 76, <> line 1.)\n",
            "debconf: falling back to frontend: Readline\n",
            "debconf: unable to initialize frontend: Readline\n",
            "debconf: (This frontend requires a controlling tty.)\n",
            "debconf: falling back to frontend: Teletype\n",
            "dpkg-preconfigure: unable to re-open stdin: \n",
            "Selecting previously unselected package fonts-nanum.\n",
            "(Reading database ... 155047 files and directories currently installed.)\n",
            "Preparing to unpack .../fonts-nanum_20170925-1_all.deb ...\n",
            "Unpacking fonts-nanum (20170925-1) ...\n",
            "Setting up fonts-nanum (20170925-1) ...\n",
            "Processing triggers for fontconfig (2.12.6-0ubuntu2) ...\n",
            "/usr/share/fonts: caching, new cache contents: 0 fonts, 1 dirs\n",
            "/usr/share/fonts/truetype: caching, new cache contents: 0 fonts, 3 dirs\n",
            "/usr/share/fonts/truetype/humor-sans: caching, new cache contents: 1 fonts, 0 dirs\n",
            "/usr/share/fonts/truetype/liberation: caching, new cache contents: 16 fonts, 0 dirs\n",
            "/usr/share/fonts/truetype/nanum: caching, new cache contents: 10 fonts, 0 dirs\n",
            "/usr/local/share/fonts: caching, new cache contents: 0 fonts, 0 dirs\n",
            "/root/.local/share/fonts: skipping, no such directory\n",
            "/root/.fonts: skipping, no such directory\n",
            "/var/cache/fontconfig: cleaning cache directory\n",
            "/root/.cache/fontconfig: not cleaning non-existent cache directory\n",
            "/root/.fontconfig: not cleaning non-existent cache directory\n",
            "fc-cache: succeeded\n"
          ]
        }
      ]
    },
    {
      "cell_type": "code",
      "metadata": {
        "colab": {
          "base_uri": "https://localhost:8080/"
        },
        "id": "VjEX1T2Ovw87",
        "outputId": "aeb397fb-3255-4f85-bfbb-f0fbab5badba"
      },
      "source": [
        "#  Directory 변경 (모듈이용)\n",
        "%pwd\n",
        "%cd '../content/notebooks'\n",
        "\n",
        "# module import\n",
        "## Data Load\n",
        "from pickle5 import pickle \n",
        "\n",
        "## Basic module\n",
        "import pandas as pd\n",
        "import numpy as np\n",
        "import datetime as dt\n",
        "import seaborn as sns\n",
        "import matplotlib.pyplot as plt\n",
        "plt.rc('font', family='NanumBarunGothic')\n",
        "\n",
        "#waring\n",
        "import warnings\n",
        "warnings.filterwarnings('ignore')"
      ],
      "execution_count": 1,
      "outputs": [
        {
          "output_type": "stream",
          "name": "stdout",
          "text": [
            "/content/drive/My Drive/Colab Notebooks\n"
          ]
        }
      ]
    },
    {
      "cell_type": "code",
      "metadata": {
        "id": "yblnYt0IWQsa"
      },
      "source": [
        "pd.set_option('display.max_rows', 1000)"
      ],
      "execution_count": 20,
      "outputs": []
    },
    {
      "cell_type": "code",
      "metadata": {
        "id": "SYWZrT4zRJC2"
      },
      "source": [
        "with open('/content/drive/MyDrive/공유문서/1차 프로젝트/5조/data/EDA/기존_purprd_cust.pkl','rb') as s_df:\n",
        "  df = pickle.load(s_df)"
      ],
      "execution_count": 255,
      "outputs": []
    },
    {
      "cell_type": "code",
      "metadata": {
        "colab": {
          "base_uri": "https://localhost:8080/"
        },
        "id": "sXunSsx3SCwg",
        "outputId": "d3286772-0923-4e15-c2f5-6646799b107b"
      },
      "source": [
        "대분류명 = list(df.대분류명.unique())\n",
        "대분류명"
      ],
      "execution_count": 100,
      "outputs": [
        {
          "output_type": "execute_result",
          "data": {
            "text/plain": [
              "['가구/인테리어',\n",
              " '가공식품',\n",
              " '신선식품',\n",
              " '패션잡화',\n",
              " '일상용품',\n",
              " '의류',\n",
              " '명품',\n",
              " '전문스포츠/레저',\n",
              " '디지털/가전',\n",
              " '기타',\n",
              " '교육/문화용품']"
            ]
          },
          "metadata": {},
          "execution_count": 100
        }
      ]
    },
    {
      "cell_type": "code",
      "metadata": {
        "id": "PP5b325zd3Jd"
      },
      "source": [
        "가구인테리어 = df[df['대분류명']=='가구/인테리어'][['대분류명','중분류명','소분류명','구매금액']]\n",
        "가공식품 = df[df['대분류명']=='가공식품'][['대분류명','중분류명','소분류명','구매금액']]\n",
        "신선식품 = df[df['대분류명']=='신선식품'][['대분류명','중분류명','소분류명','구매금액']]\n",
        "패션잡화 = df[df['대분류명']=='패션잡화'][['대분류명','중분류명','소분류명','구매금액']]\n",
        "일상용품 = df[df['대분류명']=='일상용품'][['대분류명','중분류명','소분류명','구매금액']]\n",
        "의류 = df[df['대분류명']=='의류'][['대분류명','중분류명','소분류명','구매금액']]\n",
        "명품 = df[df['대분류명']=='명품'][['대분류명','중분류명','소분류명','구매금액']]\n",
        "전문스포츠레저 = df[df['대분류명']=='전문스포츠/레저'][['대분류명','중분류명','소분류명','구매금액']]\n",
        "디지털가전 = df[df['대분류명']=='디지털/가전'][['대분류명','중분류명','소분류명','구매금액']]\n",
        "기타 = df[df['대분류명']=='기타'][['대분류명','중분류명','소분류명','구매금액']]\n",
        "교육문화용품 = df[df['대분류명']=='교육/문화용품'][['대분류명','중분류명','소분류명','구매금액']]"
      ],
      "execution_count": 102,
      "outputs": []
    },
    {
      "cell_type": "code",
      "metadata": {
        "id": "yfkmn3T4s5Tn"
      },
      "source": [
        "def check(a,b,c,d):\n",
        "  한거 = a + b + c\n",
        "  for i in 한거:\n",
        "    if i not in list(d.중분류명.unique()):\n",
        "      print(i) "
      ],
      "execution_count": 178,
      "outputs": []
    },
    {
      "cell_type": "markdown",
      "metadata": {
        "id": "3Dx7moUpdttT"
      },
      "source": [
        "# 가구인테리어"
      ]
    },
    {
      "cell_type": "code",
      "metadata": {
        "colab": {
          "base_uri": "https://localhost:8080/"
        },
        "id": "Ntke4xXb0s9T",
        "outputId": "726a316f-cc5e-47c4-eeed-055e919cc33a"
      },
      "source": [
        "가구인테리어.중분류명.unique()"
      ],
      "execution_count": 256,
      "outputs": [
        {
          "output_type": "execute_result",
          "data": {
            "text/plain": [
              "array(['일용잡화', '침구/수예', '주방용품', '생활잡화', '문구/팬시', '식기', '가구', '웨딩', '수예시즌',\n",
              "       '수예소품', '커튼류', '브랜드침구', '성인침구', '장식용품', '건전지', '보수용품', '성인침구류',\n",
              "       '조명/전구', '아동침구류', '가구/인테리어샵', '소가구', '의자/상', '아동침구', '상', '벽지류',\n",
              "       '의자', '테이블', '아웃도어퍼니처', '제기용품'], dtype=object)"
            ]
          },
          "metadata": {},
          "execution_count": 256
        }
      ]
    },
    {
      "cell_type": "code",
      "metadata": {
        "id": "YqJGlasUg9Lw"
      },
      "source": [
        "find = '주방용품'\n",
        "print(가구인테리어[가구인테리어['중분류명']==find]['소분류명'].unique())\n",
        "print(가구인테리어[가구인테리어['중분류명']==find]['구매금액'].mean())\n"
      ],
      "execution_count": null,
      "outputs": []
    },
    {
      "cell_type": "code",
      "metadata": {
        "id": "T86J3WWFRIj6"
      },
      "source": [
        "# 내구재\n",
        "가구인테리어내구재 = ['침구/수예','가구', '웨딩', \n",
        "       '커튼류', '브랜드침구', '성인침구', '장식용품', '성인침구류',\n",
        "       '조명/전구', '아동침구류', '가구/인테리어샵', '소가구', '의자/상', '아동침구', '상', '벽지류',\n",
        "       '의자', '테이블', '아웃도어퍼니처', '제기용품']\n",
        "\n",
        "# 준내구재\n",
        "가구인테리어준내구재 = ['주방용품','식기','수예시즌','수예소품','보수용품']\n",
        "# 비내구재\n",
        "가구인테리어비내구재 = ['일용잡화','생활잡화','문구/팬시','건전지']"
      ],
      "execution_count": 107,
      "outputs": []
    },
    {
      "cell_type": "code",
      "metadata": {
        "colab": {
          "base_uri": "https://localhost:8080/"
        },
        "id": "xumIFgHLRIYT",
        "outputId": "c9f53338-ccea-4913-fe2f-db1835c507cf"
      },
      "source": [
        "len(가구인테리어내구재) + len(가구인테리어준내구재) + len(가구인테리어비내구재) == len(가구인테리어.중분류명.unique())"
      ],
      "execution_count": 108,
      "outputs": [
        {
          "output_type": "execute_result",
          "data": {
            "text/plain": [
              "True"
            ]
          },
          "metadata": {},
          "execution_count": 108
        }
      ]
    },
    {
      "cell_type": "markdown",
      "metadata": {
        "id": "IPxiu5naRIR_"
      },
      "source": [
        "#가공식품"
      ]
    },
    {
      "cell_type": "code",
      "metadata": {
        "colab": {
          "base_uri": "https://localhost:8080/"
        },
        "id": "Plqj9bzZRINX",
        "outputId": "d9b0063d-b37e-42db-f961-3deb6c126004"
      },
      "source": [
        "가공식품내구재 = []\n",
        "가공식품준내구재 = []\n",
        "가공식품비내구재 = list(가공식품.중분류명.unique())\n",
        "\n",
        "len(가공식품내구재) + len(가공식품준내구재) + len(가공식품비내구재) == len(가공식품.중분류명.unique())"
      ],
      "execution_count": 119,
      "outputs": [
        {
          "output_type": "execute_result",
          "data": {
            "text/plain": [
              "True"
            ]
          },
          "metadata": {},
          "execution_count": 119
        }
      ]
    },
    {
      "cell_type": "markdown",
      "metadata": {
        "id": "cxqG1s5YRH_r"
      },
      "source": [
        "#신선식품"
      ]
    },
    {
      "cell_type": "code",
      "metadata": {
        "colab": {
          "base_uri": "https://localhost:8080/"
        },
        "id": "kL4KjcHJRH5K",
        "outputId": "b0cefd88-8811-4324-d5a6-203ea4145377"
      },
      "source": [
        "신선식품내구재 = []\n",
        "신선식품준내구재 = []\n",
        "신선식품비내구재 = list(신선식품.중분류명.unique())\n",
        "\n",
        "len(신선식품내구재) + len(신선식품준내구재) + len(신선식품비내구재) == len(신선식품.중분류명.unique())"
      ],
      "execution_count": 226,
      "outputs": [
        {
          "output_type": "execute_result",
          "data": {
            "text/plain": [
              "True"
            ]
          },
          "metadata": {},
          "execution_count": 226
        }
      ]
    },
    {
      "cell_type": "markdown",
      "metadata": {
        "id": "i5hhUNw1RHzO"
      },
      "source": [
        "# 패션잡화\n",
        "\n",
        "중분류중 보석<"
      ]
    },
    {
      "cell_type": "code",
      "metadata": {
        "colab": {
          "base_uri": "https://localhost:8080/"
        },
        "id": "b1QKsKWuRHuz",
        "outputId": "10b2b8bc-d032-4b90-99f9-7787c1373277"
      },
      "source": [
        "패션잡화.중분류명.unique()"
      ],
      "execution_count": 121,
      "outputs": [
        {
          "output_type": "execute_result",
          "data": {
            "text/plain": [
              "array(['섬유잡화', '피혁잡화', '구두', '보석', '액세서리', '준보석/시계', '드레스화브랜드', '모자',\n",
              "       '시즌잡화', '아동슈즈', '샌들슬리퍼', '운동화', '우산/양산', '가방', 'NB구두', '피혁토탈',\n",
              "       'TRAVEL', '장갑', '준보석', '시계', '피혁브랜드', '스카프', '남성구두', '썬글라스',\n",
              "       '시즌슈즈', '캐주얼화브랜드', '미입점행사', '잡화멀티샵', '핸드백', '시즌토탈', '벨트', '캐주얼슈즈',\n",
              "       '스포츠슈즈', '가방브랜드', '슈즈용품', '여성구두', '슈즈행사', '지갑/벨트', '아동화브랜드', '지갑',\n",
              "       '여행용품'], dtype=object)"
            ]
          },
          "metadata": {},
          "execution_count": 121
        }
      ]
    },
    {
      "cell_type": "code",
      "metadata": {
        "colab": {
          "base_uri": "https://localhost:8080/",
          "height": 450
        },
        "id": "hNJZ8Uk6RHmy",
        "outputId": "52599376-ae1f-497c-c11e-fc6a9484c94d"
      },
      "source": [
        "분류명 = 패션잡화\n",
        "find = '보석'\n",
        "print(분류명[분류명['중분류명']==find]['소분류명'].unique())\n",
        "display(분류명[분류명['중분류명']==find][['소분류명','구매금액']])\n",
        "print(분류명[분류명['중분류명']==find]['구매금액'].mean())"
      ],
      "execution_count": 130,
      "outputs": [
        {
          "output_type": "stream",
          "name": "stdout",
          "text": [
            "['보석' '조화']\n"
          ]
        },
        {
          "output_type": "display_data",
          "data": {
            "text/html": [
              "<div>\n",
              "<style scoped>\n",
              "    .dataframe tbody tr th:only-of-type {\n",
              "        vertical-align: middle;\n",
              "    }\n",
              "\n",
              "    .dataframe tbody tr th {\n",
              "        vertical-align: top;\n",
              "    }\n",
              "\n",
              "    .dataframe thead th {\n",
              "        text-align: right;\n",
              "    }\n",
              "</style>\n",
              "<table border=\"1\" class=\"dataframe\">\n",
              "  <thead>\n",
              "    <tr style=\"text-align: right;\">\n",
              "      <th></th>\n",
              "      <th>소분류명</th>\n",
              "      <th>구매금액</th>\n",
              "    </tr>\n",
              "  </thead>\n",
              "  <tbody>\n",
              "    <tr>\n",
              "      <th>336</th>\n",
              "      <td>보석</td>\n",
              "      <td>279200</td>\n",
              "    </tr>\n",
              "    <tr>\n",
              "      <th>2713</th>\n",
              "      <td>보석</td>\n",
              "      <td>200000</td>\n",
              "    </tr>\n",
              "    <tr>\n",
              "      <th>3554</th>\n",
              "      <td>보석</td>\n",
              "      <td>800000</td>\n",
              "    </tr>\n",
              "    <tr>\n",
              "      <th>3615</th>\n",
              "      <td>보석</td>\n",
              "      <td>1050000</td>\n",
              "    </tr>\n",
              "    <tr>\n",
              "      <th>3841</th>\n",
              "      <td>보석</td>\n",
              "      <td>100000</td>\n",
              "    </tr>\n",
              "    <tr>\n",
              "      <th>...</th>\n",
              "      <td>...</td>\n",
              "      <td>...</td>\n",
              "    </tr>\n",
              "    <tr>\n",
              "      <th>5766839</th>\n",
              "      <td>보석</td>\n",
              "      <td>200000</td>\n",
              "    </tr>\n",
              "    <tr>\n",
              "      <th>5767242</th>\n",
              "      <td>조화</td>\n",
              "      <td>349600</td>\n",
              "    </tr>\n",
              "    <tr>\n",
              "      <th>5767243</th>\n",
              "      <td>조화</td>\n",
              "      <td>331200</td>\n",
              "    </tr>\n",
              "    <tr>\n",
              "      <th>5767244</th>\n",
              "      <td>조화</td>\n",
              "      <td>175500</td>\n",
              "    </tr>\n",
              "    <tr>\n",
              "      <th>5767245</th>\n",
              "      <td>조화</td>\n",
              "      <td>1231200</td>\n",
              "    </tr>\n",
              "  </tbody>\n",
              "</table>\n",
              "<p>5788 rows × 2 columns</p>\n",
              "</div>"
            ],
            "text/plain": [
              "        소분류명     구매금액\n",
              "336       보석   279200\n",
              "2713      보석   200000\n",
              "3554      보석   800000\n",
              "3615      보석  1050000\n",
              "3841      보석   100000\n",
              "...      ...      ...\n",
              "5766839   보석   200000\n",
              "5767242   조화   349600\n",
              "5767243   조화   331200\n",
              "5767244   조화   175500\n",
              "5767245   조화  1231200\n",
              "\n",
              "[5788 rows x 2 columns]"
            ]
          },
          "metadata": {}
        },
        {
          "output_type": "stream",
          "name": "stdout",
          "text": [
            "1476943.9651002074\n"
          ]
        }
      ]
    },
    {
      "cell_type": "code",
      "metadata": {
        "colab": {
          "base_uri": "https://localhost:8080/"
        },
        "id": "iH5zEqb3RHgu",
        "outputId": "dd4eae60-a14c-4543-c3c3-715c809f783b"
      },
      "source": [
        "패션잡화내구재 = []\n",
        "패션잡화준내구재 = list(패션잡화.중분류명.unique())\n",
        "패션잡화비내구재 = []\n",
        "len(패션잡화내구재) + len(패션잡화준내구재) + len(패션잡화비내구재) == len(패션잡화.중분류명.unique())"
      ],
      "execution_count": 131,
      "outputs": [
        {
          "output_type": "execute_result",
          "data": {
            "text/plain": [
              "True"
            ]
          },
          "metadata": {},
          "execution_count": 131
        }
      ]
    },
    {
      "cell_type": "markdown",
      "metadata": {
        "id": "NmkbKm68RHaW"
      },
      "source": [
        "# 일상용품"
      ]
    },
    {
      "cell_type": "code",
      "metadata": {
        "colab": {
          "base_uri": "https://localhost:8080/"
        },
        "id": "vba1Q3y7RHUo",
        "outputId": "28a417db-c250-4192-8912-0084829c9187"
      },
      "source": [
        "일상용품.중분류명.unique()"
      ],
      "execution_count": 132,
      "outputs": [
        {
          "output_type": "execute_result",
          "data": {
            "text/plain": [
              "array(['아동', '화장품', '생리대', '바디용품', '세탁세제', '야외용품', '주방시즌/균일가', '주거세제',\n",
              "       '청소용품', '애견용품', '음식조리', '주방세제', '화장지', '구강용품', '욕실용품', '바디케어',\n",
              "       '종량제봉투', '균일가', '기초화장품', '색조화장품', '아동복합샵', '드럭스토어', '유아브랜드',\n",
              "       '아동브랜드', '음식저장/보관', '일반욕실용품', '훼이셜케어', '헤어스타일링', '그릇/수저', '기저귀',\n",
              "       '란제리', '주방정리', '면도용품', '교육', '개인위생용품', '표백제', '미용티슈', '야외/시즌용품',\n",
              "       'BOYS 1', '유아위생용품', '키친타올', '자동차 정비용품', '자동차 액세서리',\n",
              "       'SPORTS/OUTDOOR', '유아용품', '성인내의', '스킨케어', '유아동PB', '수납용품', '미용소품',\n",
              "       '기능헤어케어', '란제리브랜드', '화장품브랜드샵', '자동차 청소용품', '카시트/매트', '애완/동물용품',\n",
              "       '국내화장품', '아동내의', 'GIRLS', '유아식기', '조리도구', '언더웨어행사', '물티슈', '스타킹',\n",
              "       '일반헤어케어', '남성용품', '미용잡화', '담배', '유아동용품', '남아', '양말', 'BABY/INFANT',\n",
              "       '유아세제', '교환/보수용품', '청소편의도구', '고양이용품', '여성위생용품', '섬유유연제', '여성양말',\n",
              "       '장착용품', '아로마', '수족관용품', '세탁용품', '남성양말', '유아토들러', '탈취제', '밀대/걸레',\n",
              "       '자동차 편의용품', '자동차장식용품', '베이비케어', 'BOYS 2', '살충제', 'EDUCATION 1',\n",
              "       '휴대폰용품', '세차용품', '원예용품', '덴탈케어', 'VIDEOGAME', '홈웨어', 'H&B선물세트',\n",
              "       '아동행사', 'EDUCATION 2', '자동차방향제/소취제', '유아동특정', '수입브랜드', '조리용기',\n",
              "       '동물병원', '아동양말', '휴지통', '패브릭욕실용품', '풋/핸드케어', '제습제', '수도용품',\n",
              "       '유아동NPB', '주니어양말', '매트', '덧신', '시니어위생용품', 'DIY욕실용품', '주니어스포츠',\n",
              "       '주니어웨어', '프리미엄매트', '양말선물세트', '온라인양말', '자동차처분', '오토바이용품', '온라인화장품',\n",
              "       '생리용품', '가정잡화', '청소욕실용품', '주방주거세제', '주방용품', '문화용품', '두발용품', '전기전자',\n",
              "       '레저취미', '위생용품', '의류잡화', '화장지/티슈', '건강기능식품', '남성', '핸드/풋케어',\n",
              "       '네일메이크업', '헤어케어', '양말류', '립메이크업', '일반의약외품', '집중케어', '남성케어', '구강케어',\n",
              "       '계절팩', '방향/제습/탈취제', '아이메이크업', '클렌징', '여성용품', '베이직케어', '여행용품',\n",
              "       '베이스메이크업', '선케어', '여성', '파티/팬시용품', '전기용품', '피트니스', '기기', '우산/양산류',\n",
              "       '안전용품'], dtype=object)"
            ]
          },
          "metadata": {},
          "execution_count": 132
        }
      ]
    },
    {
      "cell_type": "code",
      "metadata": {
        "id": "UEIAn2zumMTN"
      },
      "source": [
        "분류명 = 일상용품\n",
        "find = '안전용품'\n",
        "print(분류명[분류명['중분류명']==find]['소분류명'].unique())\n",
        "display(분류명[분류명['중분류명']==find][['소분류명','구매금액']])\n",
        "print(분류명[분류명['중분류명']==find]['구매금액'].max())"
      ],
      "execution_count": null,
      "outputs": []
    },
    {
      "cell_type": "code",
      "metadata": {
        "colab": {
          "base_uri": "https://localhost:8080/"
        },
        "id": "aZLYzKXLRHOm",
        "outputId": "9c2e9309-28f2-477c-972a-97e92fba038c"
      },
      "source": [
        "일상용품내구재 = []\n",
        "\n",
        "\n",
        "일상용품준내구재 = ['아동', '아동복합샵', '유아브랜드','아동브랜드', '음식저장/보관', '그릇/수저','란제리','성인내의','수납용품','란제리브랜드','카시트/매트',\n",
        "            '아동내의', '유아식기', '조리도구','홈웨어', '피트니스', '기기','우산/양산류']\n",
        "\n",
        "\n",
        "\n",
        "일상용품비내구재 = ['화장품','생리대', '바디용품', '세탁세제','야외용품','주방시즌/균일가', '주거세제','청소용품', '애견용품', '음식조리', '주방세제', '화장지', '구강용품', '욕실용품', '바디케어',\n",
        "       '종량제봉투', '균일가', '기초화장품', '색조화장품', '드럭스토어','일반욕실용품', '훼이셜케어', '헤어스타일링','기저귀',\n",
        "       '주방정리', '면도용품', '교육', '개인위생용품', '표백제', '미용티슈', '야외/시즌용품','BOYS 1', '유아위생용품', '키친타올', '자동차 정비용품', '자동차 액세서리',\n",
        "       'SPORTS/OUTDOOR', '유아용품','유아동PB',  '스킨케어', '미용소품','기능헤어케어','화장품브랜드샵', '자동차 청소용품','애완/동물용품','국내화장품', 'GIRLS',\n",
        "        '언더웨어행사', '물티슈', '스타킹','일반헤어케어', '남성용품', '미용잡화', '담배', '유아동용품','남아', '양말', 'BABY/INFANT',\n",
        "       '유아세제', '교환/보수용품', '청소편의도구', '고양이용품', '여성위생용품', '섬유유연제', '여성양말',\n",
        "       '장착용품', '아로마', '수족관용품', '세탁용품', '남성양말', '유아토들러', '탈취제', '밀대/걸레',\n",
        "       '자동차 편의용품', '자동차장식용품', '베이비케어', 'BOYS 2', '살충제', 'EDUCATION 1',\n",
        "       '휴대폰용품', '세차용품', '원예용품', '덴탈케어', 'VIDEOGAME','H&B선물세트',\n",
        "       '아동행사', 'EDUCATION 2', '자동차방향제/소취제', '유아동특정', '수입브랜드', '조리용기',\n",
        "       '동물병원', '아동양말', '휴지통', '패브릭욕실용품', '풋/핸드케어', '제습제', '수도용품',\n",
        "       '유아동NPB', '주니어양말', '매트', '덧신', '시니어위생용품', 'DIY욕실용품', '주니어스포츠',\n",
        "       '주니어웨어', '프리미엄매트', '양말선물세트', '온라인양말', '자동차처분', '오토바이용품', '온라인화장품',\n",
        "       '생리용품','가정잡화', '청소욕실용품', '주방주거세제', '주방용품', '문화용품', '두발용품', '전기전자',\n",
        "       '레저취미', '위생용품', '의류잡화', '화장지/티슈', '건강기능식품', '남성', '핸드/풋케어',\n",
        "       '네일메이크업', '헤어케어', '양말류', '립메이크업', '일반의약외품', '집중케어', '남성케어', '구강케어',\n",
        "       '계절팩', '방향/제습/탈취제', '아이메이크업', '클렌징', '여성용품', '베이직케어', '여행용품',\n",
        "       '베이스메이크업', '선케어', '여성', '파티/팬시용품','전기용품','안전용품']\n",
        "len(일상용품내구재) + len(일상용품준내구재) + len(일상용품비내구재) == len(일상용품.중분류명.unique())"
      ],
      "execution_count": 186,
      "outputs": [
        {
          "output_type": "execute_result",
          "data": {
            "text/plain": [
              "True"
            ]
          },
          "metadata": {},
          "execution_count": 186
        }
      ]
    },
    {
      "cell_type": "code",
      "metadata": {
        "id": "TOWWYe1KRG7y"
      },
      "source": [
        "check(일상용품내구재,일상용품준내구재,일상용품비내구재,일상용품)"
      ],
      "execution_count": 185,
      "outputs": []
    },
    {
      "cell_type": "markdown",
      "metadata": {
        "id": "KwuK3PzY1SVW"
      },
      "source": [
        ""
      ]
    },
    {
      "cell_type": "markdown",
      "metadata": {
        "id": "Ak_bM3RlRG0p"
      },
      "source": [
        "# 의류"
      ]
    },
    {
      "cell_type": "code",
      "metadata": {
        "colab": {
          "base_uri": "https://localhost:8080/"
        },
        "id": "QmrYxk8zsSPY",
        "outputId": "5f112ebd-75a1-4537-9be5-6f7ad51662af"
      },
      "source": [
        "의류내구재 = []\n",
        "의류준내구재 = list(의류.중분류명.unique())\n",
        "의류비내구재 = []\n",
        "\n",
        "print(len(의류내구재) + len(의류준내구재) + len(의류비내구재) == len(의류.중분류명.unique()))\n",
        "check(의류내구재,의류비내구재,의류준내구재,의류)"
      ],
      "execution_count": 188,
      "outputs": [
        {
          "output_type": "stream",
          "name": "stdout",
          "text": [
            "True\n"
          ]
        }
      ]
    },
    {
      "cell_type": "markdown",
      "metadata": {
        "id": "0hq1mr-ERGuE"
      },
      "source": [
        "# 명품은 명품"
      ]
    },
    {
      "cell_type": "code",
      "metadata": {
        "colab": {
          "base_uri": "https://localhost:8080/",
          "height": 170
        },
        "id": "_nVsx9WFwz3t",
        "outputId": "d97cce06-2d43-45a6-f17f-316a03832b89"
      },
      "source": [
        "명품 = list(명품.중분류명.unique())"
      ],
      "execution_count": 274,
      "outputs": [
        {
          "output_type": "error",
          "ename": "AttributeError",
          "evalue": "ignored",
          "traceback": [
            "\u001b[0;31m---------------------------------------------------------------------------\u001b[0m",
            "\u001b[0;31mAttributeError\u001b[0m                            Traceback (most recent call last)",
            "\u001b[0;32m<ipython-input-274-959d6d5e9835>\u001b[0m in \u001b[0;36m<module>\u001b[0;34m()\u001b[0m\n\u001b[0;32m----> 1\u001b[0;31m \u001b[0m명품\u001b[0m \u001b[0;34m=\u001b[0m \u001b[0mlist\u001b[0m\u001b[0;34m(\u001b[0m\u001b[0m명품\u001b[0m\u001b[0;34m.\u001b[0m\u001b[0m중분류명\u001b[0m\u001b[0;34m.\u001b[0m\u001b[0munique\u001b[0m\u001b[0;34m(\u001b[0m\u001b[0;34m)\u001b[0m\u001b[0;34m)\u001b[0m\u001b[0;34m\u001b[0m\u001b[0;34m\u001b[0m\u001b[0m\n\u001b[0m",
            "\u001b[0;31mAttributeError\u001b[0m: 'list' object has no attribute '중분류명'"
          ]
        }
      ]
    },
    {
      "cell_type": "markdown",
      "metadata": {
        "id": "PZrzQyZiRGnq"
      },
      "source": [
        "#'전문스포츠/레저',\n"
      ]
    },
    {
      "cell_type": "code",
      "metadata": {
        "colab": {
          "base_uri": "https://localhost:8080/"
        },
        "id": "jdsKNx9XRGhY",
        "outputId": "79e94848-bda5-413e-bd93-7c7b3c5d611d"
      },
      "source": [
        "전문스포츠레저.중분류명.unique()"
      ],
      "execution_count": 191,
      "outputs": [
        {
          "output_type": "execute_result",
          "data": {
            "text/plain": [
              "array(['스포츠', '골프용품', '스포츠NB', '스포츠웨어', '헬스용품', '구기용품', '시즌행사', '브랜드',\n",
              "       '등산', '수영복', '라켓스포츠', '롤러보드', '워터스포츠', '스포츠의류', '스키', '자전거',\n",
              "       '윈터스포츠', '스포츠ACC', '골프', '낚시', '시니어건강용품', '캠핑', '스포츠브랜드편집'],\n",
              "      dtype=object)"
            ]
          },
          "metadata": {},
          "execution_count": 191
        }
      ]
    },
    {
      "cell_type": "code",
      "metadata": {
        "colab": {
          "base_uri": "https://localhost:8080/"
        },
        "id": "KKYkc42hRGZ4",
        "outputId": "f8f9d8af-2503-4b6f-be7b-a77cecfa4fb5"
      },
      "source": [
        "전문스포츠레저내구재 = []\n",
        "전문스포츠레저준내구재 = list(전문스포츠레저.중분류명.unique())\n",
        "전문스포츠레저비내구재 = []\n",
        "\n",
        "print(len(전문스포츠레저내구재) + len(전문스포츠레저준내구재) + len(전문스포츠레저비내구재) == len(전문스포츠레저.중분류명.unique()))\n",
        "check(전문스포츠레저내구재,전문스포츠레저준내구재,전문스포츠레저비내구재,전문스포츠레저)"
      ],
      "execution_count": 192,
      "outputs": [
        {
          "output_type": "stream",
          "name": "stdout",
          "text": [
            "True\n"
          ]
        }
      ]
    },
    {
      "cell_type": "markdown",
      "metadata": {
        "id": "JZ1aPF-ZRGRS"
      },
      "source": [
        "#디지털가전\n"
      ]
    },
    {
      "cell_type": "code",
      "metadata": {
        "colab": {
          "base_uri": "https://localhost:8080/"
        },
        "id": "FzW45mWKRGDj",
        "outputId": "f60eb496-7a86-4ee6-eea4-ad28b0e0be16"
      },
      "source": [
        "디지털가전.중분류명.unique()"
      ],
      "execution_count": 194,
      "outputs": [
        {
          "output_type": "execute_result",
          "data": {
            "text/plain": [
              "array(['주방가전', '통신/컴퓨터', '대형가전', '소형가전', '악기', '전자/전기', '건강가전', '생활소형가전',\n",
              "       '전기요/장판', '이동통신', '컴퓨터주변기기', '밥솥', '청소기', '시즌/건강가전', '기타음향기기',\n",
              "       '전기포트', '믹서기', 'NAVI/하이패스', '기타주방가전', 'TV', '세탁기', '조리기', '오디오',\n",
              "       '가습기', '전화기/팩스', '히터기', '커피메이커/머신', '카메라/캠코더', 'PC', '김치냉장고',\n",
              "       'MP3/PMP', '공기청정기', '냉장고', '선풍기', '에어컨', '전기면도기', 'DVD', '건강디지털기기',\n",
              "       '전자학습기', '전자악기', '홈시어터', '소형음향기기', '주방소형가전', '정수기'], dtype=object)"
            ]
          },
          "metadata": {},
          "execution_count": 194
        }
      ]
    },
    {
      "cell_type": "code",
      "metadata": {
        "colab": {
          "base_uri": "https://localhost:8080/"
        },
        "id": "b-J0nX2-uqr4",
        "outputId": "b8418956-f4e3-4cf2-f7dc-d58d84f2f11a"
      },
      "source": [
        "디지털가전내구재 = list(디지털가전.중분류명.unique())\n",
        "디지털가전준내구재 = []\n",
        "디지털가전비내구재 = []\n",
        "\n",
        "print(len(디지털가전내구재) + len(디지털가전준내구재) + len(디지털가전비내구재) == len(디지털가전.중분류명.unique()))\n",
        "check(디지털가전내구재,디지털가전준내구재,디지털가전비내구재,디지털가전)"
      ],
      "execution_count": 196,
      "outputs": [
        {
          "output_type": "stream",
          "name": "stdout",
          "text": [
            "True\n"
          ]
        }
      ]
    },
    {
      "cell_type": "markdown",
      "metadata": {
        "id": "KrT88aojuqoQ"
      },
      "source": [
        "# '기타'"
      ]
    },
    {
      "cell_type": "code",
      "metadata": {
        "colab": {
          "base_uri": "https://localhost:8080/"
        },
        "id": "Y4kzs85Kuql8",
        "outputId": "d37430e6-2c4a-4a97-ec52-e71482d496bc"
      },
      "source": [
        "기타.중분류명.unique()"
      ],
      "execution_count": 197,
      "outputs": [
        {
          "output_type": "execute_result",
          "data": {
            "text/plain": [
              "array(['기타', '중식', '한식', '양식', '편의시설', '일식', '푸드코트', '판매시설', 'Fast Food',\n",
              "       '분식', '레스토랑', '카페', '컨세션', '주유소', '패스트푸드'], dtype=object)"
            ]
          },
          "metadata": {},
          "execution_count": 197
        }
      ]
    },
    {
      "cell_type": "code",
      "metadata": {
        "colab": {
          "base_uri": "https://localhost:8080/",
          "height": 450
        },
        "id": "hZsd_TFLuqiH",
        "outputId": "855098eb-205b-4cf6-b56a-eb0d1a3c0ad2"
      },
      "source": [
        "분류명 = 기타\n",
        "find = '컨세션'\n",
        "print(분류명[분류명['중분류명']==find]['소분류명'].unique())\n",
        "display(분류명[분류명['중분류명']==find][['소분류명','구매금액']])\n",
        "print(분류명[분류명['중분류명']==find]['구매금액'].mean())"
      ],
      "execution_count": 200,
      "outputs": [
        {
          "output_type": "stream",
          "name": "stdout",
          "text": [
            "['푸드하우스' '푸드엠파이어' '푸드캐피탈']\n"
          ]
        },
        {
          "output_type": "display_data",
          "data": {
            "text/html": [
              "<div>\n",
              "<style scoped>\n",
              "    .dataframe tbody tr th:only-of-type {\n",
              "        vertical-align: middle;\n",
              "    }\n",
              "\n",
              "    .dataframe tbody tr th {\n",
              "        vertical-align: top;\n",
              "    }\n",
              "\n",
              "    .dataframe thead th {\n",
              "        text-align: right;\n",
              "    }\n",
              "</style>\n",
              "<table border=\"1\" class=\"dataframe\">\n",
              "  <thead>\n",
              "    <tr style=\"text-align: right;\">\n",
              "      <th></th>\n",
              "      <th>소분류명</th>\n",
              "      <th>구매금액</th>\n",
              "    </tr>\n",
              "  </thead>\n",
              "  <tbody>\n",
              "    <tr>\n",
              "      <th>5935410</th>\n",
              "      <td>푸드하우스</td>\n",
              "      <td>3500</td>\n",
              "    </tr>\n",
              "    <tr>\n",
              "      <th>6404624</th>\n",
              "      <td>푸드엠파이어</td>\n",
              "      <td>12400</td>\n",
              "    </tr>\n",
              "    <tr>\n",
              "      <th>6404625</th>\n",
              "      <td>푸드엠파이어</td>\n",
              "      <td>7000</td>\n",
              "    </tr>\n",
              "    <tr>\n",
              "      <th>6414012</th>\n",
              "      <td>푸드엠파이어</td>\n",
              "      <td>9000</td>\n",
              "    </tr>\n",
              "    <tr>\n",
              "      <th>6414013</th>\n",
              "      <td>푸드엠파이어</td>\n",
              "      <td>9000</td>\n",
              "    </tr>\n",
              "    <tr>\n",
              "      <th>...</th>\n",
              "      <td>...</td>\n",
              "      <td>...</td>\n",
              "    </tr>\n",
              "    <tr>\n",
              "      <th>19083267</th>\n",
              "      <td>푸드하우스</td>\n",
              "      <td>18000</td>\n",
              "    </tr>\n",
              "    <tr>\n",
              "      <th>19084602</th>\n",
              "      <td>푸드캐피탈</td>\n",
              "      <td>8000</td>\n",
              "    </tr>\n",
              "    <tr>\n",
              "      <th>19084603</th>\n",
              "      <td>푸드캐피탈</td>\n",
              "      <td>19000</td>\n",
              "    </tr>\n",
              "    <tr>\n",
              "      <th>19084604</th>\n",
              "      <td>푸드캐피탈</td>\n",
              "      <td>3800</td>\n",
              "    </tr>\n",
              "    <tr>\n",
              "      <th>19091153</th>\n",
              "      <td>푸드하우스</td>\n",
              "      <td>4800</td>\n",
              "    </tr>\n",
              "  </tbody>\n",
              "</table>\n",
              "<p>5290 rows × 2 columns</p>\n",
              "</div>"
            ],
            "text/plain": [
              "            소분류명   구매금액\n",
              "5935410    푸드하우스   3500\n",
              "6404624   푸드엠파이어  12400\n",
              "6404625   푸드엠파이어   7000\n",
              "6414012   푸드엠파이어   9000\n",
              "6414013   푸드엠파이어   9000\n",
              "...          ...    ...\n",
              "19083267   푸드하우스  18000\n",
              "19084602   푸드캐피탈   8000\n",
              "19084603   푸드캐피탈  19000\n",
              "19084604   푸드캐피탈   3800\n",
              "19091153   푸드하우스   4800\n",
              "\n",
              "[5290 rows x 2 columns]"
            ]
          },
          "metadata": {}
        },
        {
          "output_type": "stream",
          "name": "stdout",
          "text": [
            "9765.182419659735\n"
          ]
        }
      ]
    },
    {
      "cell_type": "code",
      "metadata": {
        "colab": {
          "base_uri": "https://localhost:8080/"
        },
        "id": "4jICVJuLuqfT",
        "outputId": "a1450cf0-3d14-4f8a-9e5e-248696b03513"
      },
      "source": [
        "기타내구재 = []\n",
        "기타준내구재 = []\n",
        "기타비내구재 = list(기타.중분류명.unique())\n",
        "\n",
        "print(len(기타내구재) + len(기타준내구재) + len(기타비내구재) == len(기타.중분류명.unique()))\n",
        "check(기타내구재,기타준내구재,기타비내구재,기타)"
      ],
      "execution_count": 240,
      "outputs": [
        {
          "output_type": "stream",
          "name": "stdout",
          "text": [
            "True\n"
          ]
        }
      ]
    },
    {
      "cell_type": "markdown",
      "metadata": {
        "id": "4xT8-7r_uqbw"
      },
      "source": [
        "#'교육/문화용품'"
      ]
    },
    {
      "cell_type": "code",
      "metadata": {
        "colab": {
          "base_uri": "https://localhost:8080/"
        },
        "id": "HehbRrRcuqYz",
        "outputId": "6edad26c-35df-444a-b0c1-f30742e7429d"
      },
      "source": [
        "교육문화용품.중분류명.unique()"
      ],
      "execution_count": 204,
      "outputs": [
        {
          "output_type": "execute_result",
          "data": {
            "text/plain": [
              "array(['오피스용품', '노트/지류', '예능학용품', '파티/팬시/시즌', '필기도구', '시즌행사', '전구',\n",
              "       '유/아동서적', '파티/팬시', '전기용품', '공구', '건전지', '서적', '교육보조재', '일반서적',\n",
              "       '보수용품', '음반영상', '노트', '영상', '음반', '미술용품', '안전용품', '조명기구'],\n",
              "      dtype=object)"
            ]
          },
          "metadata": {},
          "execution_count": 204
        }
      ]
    },
    {
      "cell_type": "code",
      "metadata": {
        "colab": {
          "base_uri": "https://localhost:8080/"
        },
        "id": "uRJ1I4VBuqV8",
        "outputId": "7b1a57d1-581a-4607-b660-a0e3419bfa0c"
      },
      "source": [
        "교육문화용품내구재 = []\n",
        "교육문화용품준내구재 = []\n",
        "교육문화용품비내구재 = list(교육문화용품.중분류명.unique())\n",
        "\n",
        "print(len(교육문화용품내구재) + len(교육문화용품준내구재) + len(교육문화용품비내구재) == len(교육문화용품.중분류명.unique()))\n",
        "check(교육문화용품내구재,교육문화용품준내구재,교육문화용품비내구재,교육문화용품)"
      ],
      "execution_count": 209,
      "outputs": [
        {
          "output_type": "stream",
          "name": "stdout",
          "text": [
            "True\n"
          ]
        }
      ]
    },
    {
      "cell_type": "code",
      "metadata": {
        "colab": {
          "base_uri": "https://localhost:8080/"
        },
        "id": "8tKWXBZMuqTM",
        "outputId": "e9d37756-f8da-4067-9491-9ff74b280a05"
      },
      "source": [
        "대분류명B"
      ],
      "execution_count": 211,
      "outputs": [
        {
          "output_type": "execute_result",
          "data": {
            "text/plain": [
              "['가구인테리어',\n",
              " '가공식품',\n",
              " '신선식품',\n",
              " '패션잡화',\n",
              " '일상용품',\n",
              " '의류',\n",
              " '명품',\n",
              " '전문스포츠레저',\n",
              " '디지털가전',\n",
              " '기타',\n",
              " '교육문화용품']"
            ]
          },
          "metadata": {},
          "execution_count": 211
        }
      ]
    },
    {
      "cell_type": "code",
      "metadata": {
        "id": "CbE6BnnwuqQ_"
      },
      "source": [
        "비내구재들 = []\n",
        "for B in 대분류명B:\n",
        "  비내구재들.append(f'{B}비내구재')"
      ],
      "execution_count": 247,
      "outputs": []
    },
    {
      "cell_type": "code",
      "metadata": {
        "colab": {
          "base_uri": "https://localhost:8080/"
        },
        "id": "VYWN7boUuqKA",
        "outputId": "ba27eb8d-d828-4bce-ad9a-48c69ec7bb7f"
      },
      "source": [
        "비내구재들"
      ],
      "execution_count": 248,
      "outputs": [
        {
          "output_type": "execute_result",
          "data": {
            "text/plain": [
              "['가구인테리어비내구재',\n",
              " '가공식품비내구재',\n",
              " '신선식품비내구재',\n",
              " '패션잡화비내구재',\n",
              " '일상용품비내구재',\n",
              " '의류비내구재',\n",
              " '명품비내구재',\n",
              " '전문스포츠레저비내구재',\n",
              " '디지털가전비내구재',\n",
              " '기타비내구재',\n",
              " '교육문화용품비내구재']"
            ]
          },
          "metadata": {},
          "execution_count": 248
        }
      ]
    },
    {
      "cell_type": "code",
      "metadata": {
        "id": "7xaT55lyuqH1"
      },
      "source": [
        "내구재리스트 = 가구인테리어내구재 + 가공식품내구재 + 신선식품내구재 + 패션잡화내구재 + 일상용품내구재 + 의류내구재 +  전문스포츠레저내구재 + 디지털가전내구재 + 기타내구재 + 교육문화용품내구재 "
      ],
      "execution_count": 275,
      "outputs": []
    },
    {
      "cell_type": "code",
      "metadata": {
        "id": "shSVa142RFvx"
      },
      "source": [
        "준내구재리스트 = 가구인테리어준내구재 + 가공식품준내구재 + 신선식품준내구재 + 패션잡화준내구재 + 일상용품준내구재+ 의류준내구재+ 전문스포츠레저준내구재+ 디지털가전준내구재+ 기타준내구재+ 교육문화용품준내구재 "
      ],
      "execution_count": 276,
      "outputs": []
    },
    {
      "cell_type": "code",
      "metadata": {
        "id": "H2snUQrdziZx"
      },
      "source": [
        "비내구재리스트 = 가구인테리어비내구재 + 가공식품비내구재 + 신선식품비내구재 +패션잡화비내구재 +일상용품비내구재 +의류비내구재+ 전문스포츠레저비내구재+ 디지털가전비내구재+ 기타비내구재+ 교육문화용품비내구재 "
      ],
      "execution_count": 277,
      "outputs": []
    },
    {
      "cell_type": "code",
      "metadata": {
        "colab": {
          "base_uri": "https://localhost:8080/"
        },
        "id": "h49SeFavz4En",
        "outputId": "acddeb43-b692-4e16-fbcd-27e2d03e09a3"
      },
      "source": [
        "df.중분류명.nunique()"
      ],
      "execution_count": 270,
      "outputs": [
        {
          "output_type": "execute_result",
          "data": {
            "text/plain": [
              "717"
            ]
          },
          "metadata": {},
          "execution_count": 270
        }
      ]
    },
    {
      "cell_type": "code",
      "metadata": {
        "colab": {
          "base_uri": "https://localhost:8080/"
        },
        "id": "aywvPh-1z9E_",
        "outputId": "08ede4dd-7ba0-4401-8465-98ab6c6827a1"
      },
      "source": [
        "len(내구재리스트) + len(준내구재리스트) + len(비내구재리스트) + len(명품)"
      ],
      "execution_count": 278,
      "outputs": [
        {
          "output_type": "execute_result",
          "data": {
            "text/plain": [
              "734"
            ]
          },
          "metadata": {},
          "execution_count": 278
        }
      ]
    },
    {
      "cell_type": "code",
      "metadata": {
        "colab": {
          "base_uri": "https://localhost:8080/"
        },
        "id": "saAHUcg73JYW",
        "outputId": "0179a39d-a774-473b-84e0-2eb443edbd8a"
      },
      "source": [
        "중복 = [x for x in 비내구재리스트 if x in 내구재리스트]\n",
        "중복"
      ],
      "execution_count": 282,
      "outputs": [
        {
          "output_type": "execute_result",
          "data": {
            "text/plain": [
              "[]"
            ]
          },
          "metadata": {},
          "execution_count": 282
        }
      ]
    },
    {
      "cell_type": "code",
      "metadata": {
        "colab": {
          "base_uri": "https://localhost:8080/"
        },
        "id": "YhxXjdpd3Qju",
        "outputId": "972e47a4-8d89-4d0c-c227-17322860e279"
      },
      "source": [
        ""
      ],
      "execution_count": 273,
      "outputs": [
        {
          "output_type": "execute_result",
          "data": {
            "text/plain": [
              "True"
            ]
          },
          "metadata": {},
          "execution_count": 273
        }
      ]
    },
    {
      "cell_type": "code",
      "metadata": {
        "id": "aE9sTzyN3ZXf"
      },
      "source": [
        ""
      ],
      "execution_count": null,
      "outputs": []
    }
  ]
}