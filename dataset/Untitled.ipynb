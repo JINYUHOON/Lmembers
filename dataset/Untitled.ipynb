{
 "cells": [
  {
   "cell_type": "code",
   "execution_count": 1,
   "id": "1d3da014-754f-4bfc-90f9-d447573d77fa",
   "metadata": {},
   "outputs": [],
   "source": [
    "import pandas as pd"
   ]
  },
  {
   "cell_type": "code",
   "execution_count": 3,
   "id": "e30bc7c8-2849-4e3e-8641-477f5236d274",
   "metadata": {},
   "outputs": [],
   "source": [
    "df_zip = pd.read_csv('zipdoro.csv',sep=',',encoding='cp949')"
   ]
  },
  {
   "cell_type": "code",
   "execution_count": 4,
   "id": "cdf7364e-450f-48e4-8efd-2dc097947bf5",
   "metadata": {},
   "outputs": [
    {
     "data": {
      "text/html": [
       "<div>\n",
       "<style scoped>\n",
       "    .dataframe tbody tr th:only-of-type {\n",
       "        vertical-align: middle;\n",
       "    }\n",
       "\n",
       "    .dataframe tbody tr th {\n",
       "        vertical-align: top;\n",
       "    }\n",
       "\n",
       "    .dataframe thead th {\n",
       "        text-align: right;\n",
       "    }\n",
       "</style>\n",
       "<table border=\"1\" class=\"dataframe\">\n",
       "  <thead>\n",
       "    <tr style=\"text-align: right;\">\n",
       "      <th></th>\n",
       "      <th>01000</th>\n",
       "      <th>서울특별시 강북구 방학로</th>\n",
       "    </tr>\n",
       "  </thead>\n",
       "  <tbody>\n",
       "    <tr>\n",
       "      <th>0</th>\n",
       "      <td>1000</td>\n",
       "      <td>서울특별시 강북구 삼양로177길</td>\n",
       "    </tr>\n",
       "    <tr>\n",
       "      <th>1</th>\n",
       "      <td>1000</td>\n",
       "      <td>서울특별시 강북구 삼양로179길</td>\n",
       "    </tr>\n",
       "    <tr>\n",
       "      <th>2</th>\n",
       "      <td>1000</td>\n",
       "      <td>서울특별시 강북구 삼양로181길</td>\n",
       "    </tr>\n",
       "    <tr>\n",
       "      <th>3</th>\n",
       "      <td>1001</td>\n",
       "      <td>서울특별시 강북구 삼양로</td>\n",
       "    </tr>\n",
       "    <tr>\n",
       "      <th>4</th>\n",
       "      <td>1001</td>\n",
       "      <td>서울특별시 강북구 삼양로170길</td>\n",
       "    </tr>\n",
       "    <tr>\n",
       "      <th>...</th>\n",
       "      <td>...</td>\n",
       "      <td>...</td>\n",
       "    </tr>\n",
       "    <tr>\n",
       "      <th>258261</th>\n",
       "      <td>63644</td>\n",
       "      <td>제주특별자치도 서귀포시 대정읍 에듀시티로173번길</td>\n",
       "    </tr>\n",
       "    <tr>\n",
       "      <th>258262</th>\n",
       "      <td>63644</td>\n",
       "      <td>제주특별자치도 서귀포시 대정읍 에듀시티로204번길</td>\n",
       "    </tr>\n",
       "    <tr>\n",
       "      <th>258263</th>\n",
       "      <td>63644</td>\n",
       "      <td>제주특별자치도 서귀포시 대정읍 에듀시티로228번길</td>\n",
       "    </tr>\n",
       "    <tr>\n",
       "      <th>258264</th>\n",
       "      <td>63644</td>\n",
       "      <td>제주특별자치도 서귀포시 대정읍 에듀시티로239번길</td>\n",
       "    </tr>\n",
       "    <tr>\n",
       "      <th>258265</th>\n",
       "      <td>63644</td>\n",
       "      <td>제주특별자치도 서귀포시 대정읍 에듀시티로50번길</td>\n",
       "    </tr>\n",
       "  </tbody>\n",
       "</table>\n",
       "<p>258266 rows × 2 columns</p>\n",
       "</div>"
      ],
      "text/plain": [
       "        01000                서울특별시 강북구 방학로\n",
       "0        1000            서울특별시 강북구 삼양로177길\n",
       "1        1000            서울특별시 강북구 삼양로179길\n",
       "2        1000            서울특별시 강북구 삼양로181길\n",
       "3        1001                서울특별시 강북구 삼양로\n",
       "4        1001            서울특별시 강북구 삼양로170길\n",
       "...       ...                          ...\n",
       "258261  63644  제주특별자치도 서귀포시 대정읍 에듀시티로173번길\n",
       "258262  63644  제주특별자치도 서귀포시 대정읍 에듀시티로204번길\n",
       "258263  63644  제주특별자치도 서귀포시 대정읍 에듀시티로228번길\n",
       "258264  63644  제주특별자치도 서귀포시 대정읍 에듀시티로239번길\n",
       "258265  63644   제주특별자치도 서귀포시 대정읍 에듀시티로50번길\n",
       "\n",
       "[258266 rows x 2 columns]"
      ]
     },
     "execution_count": 4,
     "metadata": {},
     "output_type": "execute_result"
    }
   ],
   "source": [
    "df_zip"
   ]
  },
  {
   "cell_type": "code",
   "execution_count": null,
   "id": "4088bee1-be8b-4de0-ac14-ac607607b448",
   "metadata": {},
   "outputs": [],
   "source": []
  }
 ],
 "metadata": {
  "kernelspec": {
   "display_name": "Python 3",
   "language": "python",
   "name": "python3"
  },
  "language_info": {
   "codemirror_mode": {
    "name": "ipython",
    "version": 3
   },
   "file_extension": ".py",
   "mimetype": "text/x-python",
   "name": "python",
   "nbconvert_exporter": "python",
   "pygments_lexer": "ipython3",
   "version": "3.8.11"
  }
 },
 "nbformat": 4,
 "nbformat_minor": 5
}
