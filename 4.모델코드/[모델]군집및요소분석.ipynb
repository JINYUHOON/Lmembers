{
  "nbformat": 4,
  "nbformat_minor": 0,
  "metadata": {
    "colab": {
      "name": "두근두근군집설정.ipynb의 사본",
      "private_outputs": true,
      "provenance": [],
      "collapsed_sections": [],
      "machine_shape": "hm"
    },
    "kernelspec": {
      "name": "python3",
      "display_name": "Python 3"
    },
    "language_info": {
      "name": "python"
    },
    "accelerator": "TPU"
  },
  "cells": [
    {
      "cell_type": "code",
      "metadata": {
        "id": "KqI5TonGJe4z"
      },
      "source": [
        " import os, sys\n",
        "from google.colab import drive\n",
        "drive.mount('/content/drive')\n",
        "my_path = '/content/notebooks'\n",
        "os.symlink('/content/drive/My Drive/Colab Notebooks', my_path)\n",
        "sys.path.insert(0,my_path)\n",
        "\n",
        "!sudo apt-get install -y fonts-nanum\n",
        "!sudo fc-cache -fv\n",
        "!rm ~/.cache/matplotlib -rf"
      ],
      "execution_count": null,
      "outputs": []
    },
    {
      "cell_type": "code",
      "metadata": {
        "id": "j18MAFo_OSqc"
      },
      "source": [
        "!pip install pickle5  \n",
        "from pickle5 import pickle"
      ],
      "execution_count": null,
      "outputs": []
    },
    {
      "cell_type": "code",
      "metadata": {
        "id": "m2JPPWlzGFKI"
      },
      "source": [
        "import pandas as pd\n",
        "import numpy as np\n",
        "import seaborn as sns\n",
        "import matplotlib.pyplot as plt\n",
        "from matplotlib import rc\n",
        "plt.rc('font', family='NanumBarunGothic')"
      ],
      "execution_count": null,
      "outputs": []
    },
    {
      "cell_type": "code",
      "metadata": {
        "id": "4agVXIMTGwc2"
      },
      "source": [
        "from sklearn.datasets import make_blobs\n",
        "from sklearn.cluster import KMeans\n",
        "from sklearn.metrics import silhouette_samples, silhouette_score\n",
        "\n",
        "import matplotlib.pyplot as plt\n",
        "import matplotlib.cm as cm\n",
        "import math\n",
        "\n",
        "\n",
        "###############################################################\n",
        "#############################엘보함수##########################\n",
        "###############################################################\n",
        "\n",
        "def elbow(data, length):\n",
        "    sse = [] # sum of squre error 오차제곱합\n",
        "    for i in range(1, length):\n",
        "        kmeans = KMeans(n_clusters=i)\n",
        "        kmeans.fit(data)\n",
        "        # SSE 값 저장\n",
        "        sse.append(kmeans.inertia_)\n",
        "    plt.plot(range(1, length), sse, 'bo-')\n",
        "    plt.title(\"elbow method\")\n",
        "    plt.xlabel(\"number of clusters\")\n",
        "    plt.ylabel(\"SSE\")\n",
        "    plt.show()\n",
        "\n",
        "\n",
        "\n",
        "###############################################################\n",
        "###########################실루엣함수##########################\n",
        "###############################################################\n",
        "\n",
        "def visualize_silhouette(cluster_lists, X_features): \n",
        "        \n",
        "    # 입력값으로 클러스터링 갯수들을 리스트로 받아서, 각 갯수별로 클러스터링을 적용하고 실루엣 개수를 구함\n",
        "    n_cols = len(cluster_lists)\n",
        "    \n",
        "    # plt.subplots()으로 리스트에 기재된 클러스터링 수만큼의 sub figures를 가지는 axs 생성 \n",
        "    fig, axs = plt.subplots(figsize=(4*n_cols, 4), nrows=1, ncols=n_cols)\n",
        "    \n",
        "    # 리스트에 기재된 클러스터링 갯수들을 차례로 iteration 수행하면서 실루엣 개수 시각화\n",
        "    for ind, n_cluster in enumerate(cluster_lists):\n",
        "        \n",
        "        # KMeans 클러스터링 수행하고, 실루엣 스코어와 개별 데이터의 실루엣 값 계산. \n",
        "        clusterer = KMeans(n_clusters = n_cluster, max_iter=500, random_state=0)\n",
        "        cluster_labels = clusterer.fit_predict(X_features)\n",
        "        \n",
        "        sil_avg = silhouette_score(X_features, cluster_labels)\n",
        "        sil_values = silhouette_samples(X_features, cluster_labels)\n",
        "        \n",
        "        y_lower = 10\n",
        "        axs[ind].set_title('Number of Cluster : '+ str(n_cluster)+'\\n' \\\n",
        "                          'Silhouette Score :' + str(round(sil_avg,3)) )\n",
        "        axs[ind].set_xlabel(\"The silhouette coefficient values\")\n",
        "        axs[ind].set_ylabel(\"Cluster label\")\n",
        "        axs[ind].set_xlim([-0.1, 1])\n",
        "        axs[ind].set_ylim([0, len(X_features) + (n_cluster + 1) * 10])\n",
        "        axs[ind].set_yticks([])  # Clear the yaxis labels / ticks\n",
        "        axs[ind].set_xticks([0, 0.2, 0.4, 0.6, 0.8, 1])\n",
        "        \n",
        "        # 클러스터링 갯수별로 fill_betweenx( )형태의 막대 그래프 표현. \n",
        "        for i in range(n_cluster):\n",
        "            ith_cluster_sil_values = sil_values[cluster_labels==i]\n",
        "            ith_cluster_sil_values.sort()\n",
        "            \n",
        "            size_cluster_i = ith_cluster_sil_values.shape[0]\n",
        "            y_upper = y_lower + size_cluster_i\n",
        "            \n",
        "            color = cm.nipy_spectral(float(i) / n_cluster)\n",
        "            axs[ind].fill_betweenx(np.arange(y_lower, y_upper), 0, ith_cluster_sil_values, \\\n",
        "                                facecolor=color, edgecolor=color, alpha=0.7)\n",
        "            axs[ind].text(-0.05, y_lower + 0.5 * size_cluster_i, str(i))\n",
        "            y_lower = y_upper + 10\n",
        "            \n",
        "        axs[ind].axvline(x=sil_avg, color=\"red\", linestyle=\"--\")\n",
        "\n",
        "def get_lineage(tree, feature_names):\n",
        "     left      = tree.tree_.children_left\n",
        "     right     = tree.tree_.children_right\n",
        "     threshold = tree.tree_.threshold\n",
        "     features  = [feature_names[i] for i in tree.tree_.feature]\n",
        "\n",
        "     # get ids of child nodes\n",
        "     idx = np.argwhere(left == -1)[:,0]     \n",
        "\n",
        "     def recurse(left, right, child, lineage=None):          \n",
        "          if lineage is None:\n",
        "               lineage = [child]\n",
        "          if child in left:\n",
        "               parent = np.where(left == child)[0].item()\n",
        "               split = 'l'\n",
        "          else:\n",
        "               parent = np.where(right == child)[0].item()\n",
        "               split = 'r'\n",
        "\n",
        "          lineage.append((parent, split, threshold[parent], features[parent]))\n",
        "\n",
        "          if parent == 0:\n",
        "               lineage.reverse()\n",
        "               return lineage\n",
        "          else:\n",
        "               return recurse(left, right, parent, lineage)\n",
        "\n",
        "     for child in idx:\n",
        "          for node in recurse(left, right, child):\n",
        "               print(node)\n"
      ],
      "execution_count": null,
      "outputs": []
    },
    {
      "cell_type": "markdown",
      "metadata": {
        "id": "z0u7VzwAGWPK"
      },
      "source": [
        "# 군집위한 데이터셋 불러오기"
      ]
    },
    {
      "cell_type": "code",
      "metadata": {
        "id": "3Fta8S7qGSaz"
      },
      "source": [
        "################################################################################################################################################\n",
        "################################################################################################################################################\n",
        "################################################################################################################################################\n",
        "\n",
        "#################################### 가능하면 여기서 drop할 컬럼 지우고 가야함 ####################################\n",
        "\n",
        "path = '/content/drive/MyDrive/공유문서/1차 프로젝트/5조/1012발표도못하고수정/10월14일이후 새로추가/df_ml_123_AbsNet_범주4_cv.pkl'\n",
        "\n",
        "df = pd.read_pickle(path)\n",
        "# dec_df = df[(df['target']==1)].drop(['target','고객번호','A_고객등급','B_고객등급','C_고객등급','D_고객등급'],axis=1)\n",
        "dec_df = df[(df['target']==1)]\n",
        "dec_df =dec_df[['Recency_Net', '객단가_Net', 'Monetary_Net', '구매횟수_Net', '방문별거래횟수_Net',\n",
        "       'A_amt_Net', 'B_amt_Net', 'C_amt_Net', 'D_amt_Net', '평일_Net', '오전_Net',\n",
        "       '고관여제품_Net', '사치품_Net', '식품_Net', '저관여제품_Net', '패션_Net', '엥겔지수_Net',\n",
        "       '연령대', '거주지역랭크', '멤버십_가입개수', '거주지역랭크_범주', '성별_F', '성별_M', '누적구매금액',\n",
        "       'Recency_cv', '객단가_cv', 'Monetary_cv', '방문별거래횟수_cv', 'A_amt_cv',\n",
        "       'B_amt_cv', 'C_amt_cv', 'D_amt_cv', '오전_cv', '고관여제품_cv', '사치품_cv',\n",
        "       '식품_cv', '저관여제품_cv', '패션_cv', '엥겔지수_cv', 'Recency_ma', 'Frequency_ma',\n",
        "       '내구재_amt_ratio_ma', '준내구재_amt_ratio_ma', '비내구재_amt_ratio_ma',\n",
        "       '사치품_amt_ratio_ma', '평일_r_ma', 'A_amt_r_ma', 'B_amt_r_ma', 'C_amt_r_ma',\n",
        "       'D_amt_r_ma', '고객총매출_ma', 'target']]"
      ],
      "execution_count": null,
      "outputs": []
    },
    {
      "cell_type": "code",
      "metadata": {
        "id": "WLWwnnZiKhpd"
      },
      "source": [
        "dec_df"
      ],
      "execution_count": null,
      "outputs": []
    },
    {
      "cell_type": "code",
      "metadata": {
        "id": "zoSv-3duMbYt"
      },
      "source": [
        "from sklearn.tree import DecisionTreeClassifier\n",
        "from sklearn.ensemble import RandomForestClassifier\n",
        "from sklearn.model_selection import train_test_split\n",
        "from sklearn.metrics import accuracy_score\n",
        "from lightgbm import LGBMClassifier\n",
        "lgbm = LGBMClassifier()\n",
        "train_df = pd.read_pickle('/content/drive/MyDrive/공유문서/1차 프로젝트/5조/이젠그만하자/4분위_std_cv_test.pkl')\n",
        "\n",
        "X = train_df.drop(['target','고객번호'],axis=1)\n",
        "y = train_df['target']\n",
        "\n",
        "X_train, X_test, y_train, y_test = train_test_split(X,y , test_size=0.2, random_state=42)\n",
        "\n",
        "dt = DecisionTreeClassifier()\n",
        "dt.fit(X_train, y_train)\n",
        "# dt_pred = lgbm.predict(X_test)\n",
        "\n",
        "# accuracy_score(y_test, dt_pred)"
      ],
      "execution_count": null,
      "outputs": []
    },
    {
      "cell_type": "code",
      "metadata": {
        "id": "gru_JmJ7OlRX"
      },
      "source": [
        "from lightgbm import LGBMClassifier\n",
        "\n",
        "lgbm =LGBMClassifier(n_estimators=400)\n",
        "evals= [(X_test,y_test)]\n",
        "lgbm.fit(X_train, y_train)\n",
        "lgbm_preds = lgbm.predict(X_test)\n",
        "lgbm_preds_proba = lgbm.predict_proba(X_test)[:,1]"
      ],
      "execution_count": null,
      "outputs": []
    },
    {
      "cell_type": "code",
      "metadata": {
        "id": "oEldWqLBPCE7"
      },
      "source": [
        "important_df = pd.Series(lgbm.feature_importances_ , index = X_train.columns)\n",
        "\n",
        "im_data = important_df.sort_values(ascending=False)[:22].index"
      ],
      "execution_count": null,
      "outputs": []
    },
    {
      "cell_type": "code",
      "metadata": {
        "id": "1d4q7QG0by43"
      },
      "source": [
        "im_data"
      ],
      "execution_count": null,
      "outputs": []
    },
    {
      "cell_type": "code",
      "metadata": {
        "id": "MKjaoimGNaQO"
      },
      "source": [
        "def plot_feature_importances_cancer(model):\n",
        "    plt.figure(figsize=(20,15))\n",
        "    n_features = X.shape[1]\n",
        "\n",
        "    plt.barh(range(n_features),model.feature_importances_, align='center')\n",
        "\n",
        "    plt.yticks(np.arange(n_features),X.columns)\n",
        "\n",
        "    plt.xlabel(\"attr importances\")\n",
        "\n",
        "    plt.ylabel(\"attr\")\n",
        "\n",
        "    plt.ylim(-1,n_features)\n",
        "\n",
        "plot_feature_importances_cancer(dt)\n",
        "\n",
        "plt.show()"
      ],
      "execution_count": null,
      "outputs": []
    },
    {
      "cell_type": "code",
      "metadata": {
        "id": "MzD0hCfMaBBM"
      },
      "source": [
        "df.columns"
      ],
      "execution_count": null,
      "outputs": []
    },
    {
      "cell_type": "code",
      "metadata": {
        "id": "3yAipLPTR9e9"
      },
      "source": [
        "important_df = pd.Series(dt.feature_importances_ , index = X_train.columns)\n",
        "\n",
        "im_data = list(important_df.sort_values(ascending=False)[:22].index)\n",
        "# im_data.append('거주지역랭크')"
      ],
      "execution_count": null,
      "outputs": []
    },
    {
      "cell_type": "code",
      "metadata": {
        "id": "787nZ4Mlb9TV"
      },
      "source": [
        "im_data"
      ],
      "execution_count": null,
      "outputs": []
    },
    {
      "cell_type": "code",
      "metadata": {
        "id": "DbA8ZwZzQ8tM"
      },
      "source": [
        "# dec_df = X[im_data]\n",
        "train_df"
      ],
      "execution_count": null,
      "outputs": []
    },
    {
      "cell_type": "code",
      "metadata": {
        "id": "egj6IaOQP-wh"
      },
      "source": [
        "train_df.columns"
      ],
      "execution_count": null,
      "outputs": []
    },
    {
      "cell_type": "code",
      "metadata": {
        "id": "_je8TdBQKDEG"
      },
      "source": [
        "dec_df = train_df[(train_df['target']==1)][im_data]\n",
        "\n",
        "dec_df = train_df[(train_df['target']==1)]\n",
        "dec_df = dec_df[['Recency_Net', '객단가_Net', 'Monetary_Net', '구매횟수_Net',\n",
        "       '방문별거래횟수_Net', 'A_amt_Net', 'B_amt_Net', 'C_amt_Net',\n",
        "       '평일_Net', '오전_Net', '고관여제품_Net', '사치품_Net', '식품_Net', '저관여제품_Net',\n",
        "       '패션_Net', '엥겔지수_Net', '연령대', '거주지역랭크', '멤버십_가입개수', '성별_F',\n",
        "       '성별_M', '누적구매금액', 'Recency_cv', '객단가_cv', 'Monetary_cv', 'A_amt_cv',\n",
        "       'B_amt_cv', 'C_amt_cv', '평일_cv', '오전_cv', '고관여제품_cv',\n",
        "       '사치품_cv', '식품_cv', '저관여제품_cv', '패션_cv', '엥겔지수_cv', 'Recency_ma',\n",
        "       'Frequency_ma', '고객총매출_ma']]\n",
        "\n",
        "len(dec_df.columns)"
      ],
      "execution_count": null,
      "outputs": []
    },
    {
      "cell_type": "markdown",
      "metadata": {
        "id": "lMxYAticHyLf"
      },
      "source": [
        "# 데이터셋의 실루엣 및 엘보우 확인"
      ]
    },
    {
      "cell_type": "code",
      "metadata": {
        "id": "gMCwRrBRcm_J"
      },
      "source": [
        "dec_df"
      ],
      "execution_count": null,
      "outputs": []
    },
    {
      "cell_type": "code",
      "metadata": {
        "id": "EsviNNwhcvhx"
      },
      "source": [
        "from sklearn.preprocessing import StandardScaler\n",
        "scaler = StandardScaler()\n",
        "dec_df[['거주지역랭크_1']] = scaler.fit_transform(dec_df[['거주지역랭크']])\n",
        "dec_df_c = dec_df.copy()\n",
        "dec_df_c = dec_df_c.drop(['거주지역랭크'],axis=1)\n",
        "dec_df_c"
      ],
      "execution_count": null,
      "outputs": []
    },
    {
      "cell_type": "code",
      "metadata": {
        "id": "FVLL8b68Hrsu"
      },
      "source": [
        "visualize_silhouette([3,4,5,6,7,8,9,10], dec_df_c)"
      ],
      "execution_count": null,
      "outputs": []
    },
    {
      "cell_type": "code",
      "metadata": {
        "id": "z1R1iHU1LHJm"
      },
      "source": [
        "  elbow(dec_df_c, 13)"
      ],
      "execution_count": null,
      "outputs": []
    },
    {
      "cell_type": "code",
      "metadata": {
        "id": "UWYBD5AMTGHn"
      },
      "source": [
        "# test_df = df.drop(['target',''])"
      ],
      "execution_count": null,
      "outputs": []
    },
    {
      "cell_type": "code",
      "metadata": {
        "id": "pK8PivJOlL7c"
      },
      "source": [
        "import seaborn as sns\n",
        "\n",
        "plt.figure(figsize=(20,15))\n",
        "\n",
        "sns.heatmap(dec_df_c.corr(),annot=True, cmap='YlGn')"
      ],
      "execution_count": null,
      "outputs": []
    },
    {
      "cell_type": "markdown",
      "metadata": {
        "id": "Ums1Cd0KHL86"
      },
      "source": [
        "# 1. 계층적군집 => label값 cluster_df로 통합\n",
        "# 2. cluster_df에서 군집된 label값 dummie로 one-hot\n",
        "# 3. one-hot된 label 다시 cluster_df 로 붙이기\n",
        "# 4. 최종 군집된 데이터 == cluster_df"
      ]
    },
    {
      "cell_type": "code",
      "metadata": {
        "id": "BHcfEj94Gnk5"
      },
      "source": [
        "from sklearn.cluster import AgglomerativeClustering\n",
        "\n",
        "kmeans = AgglomerativeClustering(n_clusters=4)\n",
        "kmeans.fit(dec_df_c)\n",
        "labels = pd.Series(kmeans.labels_)\n",
        "dec_df_c = dec_df_c.reset_index(drop=True)\n",
        "\n",
        "cluster_df = pd.concat([dec_df_c, labels],axis=1)\n",
        "cluster_df\n",
        "\n",
        "dum_data = pd.get_dummies(labels)\n",
        "cluster_df = pd.concat([dec_df_c, dum_data],axis=1)\n",
        "cluster_df"
      ],
      "execution_count": null,
      "outputs": []
    },
    {
      "cell_type": "markdown",
      "metadata": {
        "id": "TYudiZL_Iodm"
      },
      "source": [
        "Decision Tree로 군집 선택지 확인"
      ]
    },
    {
      "cell_type": "code",
      "metadata": {
        "id": "7dYtaJC5QpWW"
      },
      "source": [
        "cluster_df"
      ],
      "execution_count": null,
      "outputs": []
    },
    {
      "cell_type": "code",
      "metadata": {
        "id": "kH8MHfVoInqc"
      },
      "source": [
        "## 함수화해놓은거\n",
        "\n",
        "## clust_count(군집갯수, 확인하고싶은종속변수, 깊이)\n",
        "\n",
        "from sklearn.tree import DecisionTreeClassifier\n",
        "from sklearn.model_selection import train_test_split\n",
        "from sklearn.metrics import accuracy_score\n",
        "import numpy as np\n",
        "\n",
        "def clust_count(군집갯수, 종속변수, depth): # 군집화된 갯수(현재 설정은 4, 확인하고픈 종속변수 이것도 0부터 3, max_depth )\n",
        "\n",
        "    count = list(np.arange(군집갯수))\n",
        "\n",
        "\n",
        "    X = cluster_df.drop(count, axis=1)\n",
        "    y = cluster_df[종속변수]\n",
        "\n",
        "    X_train, X_test, y_train, y_test = train_test_split(X,y , test_size=0.2, random_state=42)\n",
        "\n",
        "    dt = DecisionTreeClassifier(max_depth= depth)\n",
        "    dt.fit(X_train, y_train)\n",
        "    pred = dt.predict(X_test)\n",
        "    acc = accuracy_score(y_test, pred)\n",
        "    print(acc)\n",
        "\n",
        "    import matplotlib.pyplot as plt\n",
        "    # from matplotlib import rc\n",
        "    from sklearn import tree\n",
        "\n",
        "    # rc('font',family='Malgun Gothic') # 한글 폰트 설정\n",
        "    # plt.rcParams['axes.unicode_minus'] = False #\n",
        "\n",
        "    plt.figure(figsize=(25,10))\n",
        "    tree.plot_tree(dt,fontsize=400)\n",
        "\n",
        "    tree.plot_tree(dt, filled=True,\n",
        "                feature_names = X.columns,\n",
        "                class_names = 'cluster',\n",
        "                rounded=True)\n",
        "    plt.savefig(f'/content/drive/MyDrive/공유문서/1차 프로젝트/5조/이젠그만하자/dt_tree{종속변수}.png')\n",
        "    plt.show()\n",
        "    \n",
        "\n",
        "    return dt"
      ],
      "execution_count": null,
      "outputs": []
    },
    {
      "cell_type": "code",
      "metadata": {
        "id": "ZG_xsiLIRA36"
      },
      "source": [
        "clust_count(4, 0, 5)"
      ],
      "execution_count": null,
      "outputs": []
    },
    {
      "cell_type": "code",
      "metadata": {
        "id": "o5hG284JJaV_"
      },
      "source": [
        "from sklearn.tree import DecisionTreeClassifier\n",
        "from sklearn.model_selection import train_test_split\n",
        "from sklearn.metrics import accuracy_score\n",
        "\n",
        "X = cluster_df.drop([0,1,2,3], axis=1)\n",
        "y = cluster_df[3]\n",
        "\n",
        "X_train, X_test, y_train, y_test = train_test_split(X,y , test_size=0.2, random_state=42)\n",
        "\n",
        "dt = DecisionTreeClassifier(max_depth=6)\n",
        "dt.fit(X_train, y_train)\n",
        "pred = dt.predict(X_test)\n",
        "acc = accuracy_score(y_test, pred)\n",
        "print(acc)\n",
        "\n",
        "import matplotlib.pyplot as plt\n",
        "# from matplotlib import rc\n",
        "from sklearn import tree\n",
        "\n",
        "# rc('font',family='Malgun Gothic') # 한글 폰트 설정\n",
        "# plt.rcParams['axes.unicode_minus'] = False #\n",
        "\n",
        "# plt.figure(figsize=(20,15))\n",
        "\n",
        "# tree.plot_tree(dt, filled=True,\n",
        "#               feature_names = X.columns,\n",
        "#               class_names = 'cluster',\n",
        "#               rounded=True)\n",
        "# plt.show()"
      ],
      "execution_count": null,
      "outputs": []
    },
    {
      "cell_type": "code",
      "metadata": {
        "id": "LfImLSRFf9Rz"
      },
      "source": [
        "X"
      ],
      "execution_count": null,
      "outputs": []
    },
    {
      "cell_type": "code",
      "metadata": {
        "id": "veMnyTCqNUbd"
      },
      "source": [
        "## 군집 압축해서 보기\n",
        "\n",
        "from sklearn.tree import export_graphviz\n",
        "export_graphviz(dt, out_file=\"tree.dot\", class_names=[\"0\", \"1\",\"2\",\"3\"],\n",
        "                feature_names=X.columns,\n",
        "                filled=True)\n",
        "\n",
        "import graphviz\n",
        "\n",
        "with open(\"tree.dot\") as f:\n",
        "    dot_graph = f.read()\n",
        "\n",
        "display(graphviz.Source(dot_graph))\n",
        "\n",
        "import pydot\n",
        "(graph,) = pydot.graph_from_dot_file('tree.dot', encoding='utf8')\n",
        "graph.write_png('/content/drive/MyDrive/공유문서/1차 프로젝트/5조/이젠그만하자/tree.png')"
      ],
      "execution_count": null,
      "outputs": []
    },
    {
      "cell_type": "code",
      "metadata": {
        "id": "ReLC0ETmFA10"
      },
      "source": [
        "import pydot\n",
        "(graph,) = pydot.graph_from_dot_file('dicisionTree1.dot', encoding='utf8')\n",
        "graph.write_png('dicisionTree1.png')"
      ],
      "execution_count": null,
      "outputs": []
    },
    {
      "cell_type": "code",
      "metadata": {
        "id": "bWUUoJ0PzhlL"
      },
      "source": [
        "import seaborn as sns\n",
        "\n",
        "plt.figure(figsize=(20,15))\n",
        "\n",
        "sns.heatmap(cluster_df.corr(),annot=True, cmap='YlGn')"
      ],
      "execution_count": null,
      "outputs": []
    },
    {
      "cell_type": "code",
      "metadata": {
        "id": "0IxMSnBiNAUq"
      },
      "source": [
        "## 글로 분류보기\n",
        "\n",
        "get_lineage(dt, X.columns)"
      ],
      "execution_count": null,
      "outputs": []
    },
    {
      "cell_type": "code",
      "metadata": {
        "id": "0vZBKFtSMa7e"
      },
      "source": [
        "with open ('/content/drive/MyDrive/공유문서/1차 프로젝트/5조/이젠그만하자/net_df.pkl','wb') as read:\n",
        "  pickle.dump(cluster_df,read)"
      ],
      "execution_count": null,
      "outputs": []
    },
    {
      "cell_type": "code",
      "metadata": {
        "id": "Oq3i_XwtO8fn"
      },
      "source": [
        "with open ('/content/drive/MyDrive/공유문서/1차 프로젝트/5조/이젠그만하자/net_df.pkl','rb') as read:\n",
        "  a = pickle.load(read)"
      ],
      "execution_count": null,
      "outputs": []
    },
    {
      "cell_type": "code",
      "metadata": {
        "id": "vbZ02IxyPBOV"
      },
      "source": [
        "a"
      ],
      "execution_count": null,
      "outputs": []
    },
    {
      "cell_type": "code",
      "metadata": {
        "id": "MR5BBg-xtzM4"
      },
      "source": [
        "import seaborn as sns\n",
        "\n",
        "plt.figure(figsize=(20,15))\n",
        "\n",
        "sns.heatmap(cluster_df.corr(),annot=True, cmap='YlGn')"
      ],
      "execution_count": null,
      "outputs": []
    },
    {
      "cell_type": "code",
      "metadata": {
        "id": "luJ7OmpftzM5"
      },
      "source": [
        "## 글로 분류보기\n",
        "\n",
        "get_lineage(dt, X.columns)"
      ],
      "execution_count": null,
      "outputs": []
    },
    {
      "cell_type": "code",
      "metadata": {
        "id": "iyy67RAktzM6"
      },
      "source": [
        "clust_df.to_pickle('')"
      ],
      "execution_count": null,
      "outputs": []
    }
  ]
}